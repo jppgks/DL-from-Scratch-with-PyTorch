{
  "nbformat": 4,
  "nbformat_minor": 0,
  "metadata": {
    "colab": {
      "name": "Regression with Feedforward NN.ipynb",
      "provenance": [],
      "collapsed_sections": [],
      "mount_file_id": "1WhHQ3GXcLoETcBnlzMcJ1yEndn62lMcE",
      "authorship_tag": "ABX9TyMgPb0VCgM7TLaXuVADtD6/",
      "include_colab_link": true
    },
    "kernelspec": {
      "name": "python3",
      "display_name": "Python 3"
    },
    "language_info": {
      "name": "python"
    }
  },
  "cells": [
    {
      "cell_type": "markdown",
      "metadata": {
        "id": "view-in-github",
        "colab_type": "text"
      },
      "source": [
        "<a href=\"https://colab.research.google.com/github/jppgks/DL-from-Scratch-with-PyTorch/blob/main/Regression_with_Feedforward_NN.ipynb\" target=\"_parent\"><img src=\"https://colab.research.google.com/assets/colab-badge.svg\" alt=\"Open In Colab\"/></a>"
      ]
    },
    {
      "cell_type": "code",
      "source": [
        "import torch\n",
        "from torch import nn\n",
        "from torch.nn import functional as F\n",
        "\n",
        "import pandas as pd\n",
        "\n",
        "from sklearn_pandas import DataFrameMapper\n",
        "from sklearn.preprocessing import LabelBinarizer, OneHotEncoder\n",
        "\n",
        "from utils import train_loop, test_loop"
      ],
      "metadata": {
        "id": "AHjfCHwoy20N"
      },
      "execution_count": 2,
      "outputs": []
    },
    {
      "cell_type": "code",
      "source": [
        "import os\n",
        "os.environ[\"KAGGLE_USERNAME\"] = input()\n",
        "import getpass\n",
        "os.environ[\"KAGGLE_KEY\"] = getpass.getpass()"
      ],
      "metadata": {
        "colab": {
          "base_uri": "https://localhost:8080/"
        },
        "id": "GnaAzHsdh899",
        "outputId": "962ef85f-ff07-4a87-f0cd-d4bf06a08cd6"
      },
      "execution_count": 3,
      "outputs": [
        {
          "name": "stdout",
          "output_type": "stream",
          "text": [
            "joppegeluykens\n",
            "··········\n"
          ]
        }
      ]
    },
    {
      "cell_type": "markdown",
      "source": [
        "## Data"
      ],
      "metadata": {
        "id": "f_tznqXIjIQt"
      }
    },
    {
      "cell_type": "code",
      "execution_count": 4,
      "metadata": {
        "colab": {
          "base_uri": "https://localhost:8080/"
        },
        "id": "4yYt5zWLgvSE",
        "outputId": "6e8da481-bef2-43c4-d988-972c1f0c707b"
      },
      "outputs": [
        {
          "output_type": "stream",
          "name": "stdout",
          "text": [
            "Warning: Looks like you're using an outdated API Version, please consider updating (server 1.5.12 / client 1.5.4)\n",
            "Downloading test.csv to /content\n",
            "  0% 0.00/306k [00:00<?, ?B/s]\n",
            "100% 306k/306k [00:00<00:00, 40.9MB/s]\n",
            "Downloading sample_submission.csv to /content\n",
            "  0% 0.00/64.2k [00:00<?, ?B/s]\n",
            "100% 64.2k/64.2k [00:00<00:00, 67.0MB/s]\n",
            "Downloading train.csv.zip to /content\n",
            "  0% 0.00/186k [00:00<?, ?B/s]\n",
            "100% 186k/186k [00:00<00:00, 5.95MB/s]\n"
          ]
        }
      ],
      "source": [
        "!kaggle competitions download -c tabular-playground-series-jan-2022"
      ]
    },
    {
      "cell_type": "code",
      "source": [
        "!unzip train.csv"
      ],
      "metadata": {
        "colab": {
          "base_uri": "https://localhost:8080/"
        },
        "id": "1Fpx8hGih4fh",
        "outputId": "767e99fe-e968-4e3a-87fb-8da6f327e0fa"
      },
      "execution_count": 5,
      "outputs": [
        {
          "output_type": "stream",
          "name": "stdout",
          "text": [
            "Archive:  train.csv.zip\n",
            "  inflating: train.csv               \n"
          ]
        }
      ]
    },
    {
      "cell_type": "markdown",
      "source": [
        "### Vectorize"
      ],
      "metadata": {
        "id": "Ycv6d1fRj-_9"
      }
    },
    {
      "cell_type": "code",
      "source": [
        "df_train = pd.read_csv(\"/content/train.csv\", index_col=\"row_id\")\n",
        "df_test = pd.read_csv(\"/content/test.csv\", index_col=\"row_id\")"
      ],
      "metadata": {
        "id": "WuOOy9mAkG2G"
      },
      "execution_count": 6,
      "outputs": []
    },
    {
      "cell_type": "code",
      "source": [
        "def add_time_cols(df):\n",
        "  df.date = pd.to_datetime(df.date)\n",
        "  df[\"weekday\"] = df.date.dt.weekday\n",
        "  df[\"month\"] = df.date.dt.month\n",
        "\n",
        "  return df"
      ],
      "metadata": {
        "id": "F7HWYyeaovc6"
      },
      "execution_count": 7,
      "outputs": []
    },
    {
      "cell_type": "code",
      "source": [
        "df_train = add_time_cols(df_train)\n",
        "df_test = add_time_cols(df_test)"
      ],
      "metadata": {
        "id": "XKG-S_IJuBEx"
      },
      "execution_count": 8,
      "outputs": []
    },
    {
      "cell_type": "code",
      "source": [
        "df_train.head()"
      ],
      "metadata": {
        "colab": {
          "base_uri": "https://localhost:8080/",
          "height": 235
        },
        "id": "ADs1vD5hkOOY",
        "outputId": "bd3b9006-32e7-4307-d4de-f913789c97c0"
      },
      "execution_count": 9,
      "outputs": [
        {
          "output_type": "execute_result",
          "data": {
            "text/html": [
              "\n",
              "  <div id=\"df-ebae7642-729b-421c-b307-1b350e5aba0f\">\n",
              "    <div class=\"colab-df-container\">\n",
              "      <div>\n",
              "<style scoped>\n",
              "    .dataframe tbody tr th:only-of-type {\n",
              "        vertical-align: middle;\n",
              "    }\n",
              "\n",
              "    .dataframe tbody tr th {\n",
              "        vertical-align: top;\n",
              "    }\n",
              "\n",
              "    .dataframe thead th {\n",
              "        text-align: right;\n",
              "    }\n",
              "</style>\n",
              "<table border=\"1\" class=\"dataframe\">\n",
              "  <thead>\n",
              "    <tr style=\"text-align: right;\">\n",
              "      <th></th>\n",
              "      <th>date</th>\n",
              "      <th>country</th>\n",
              "      <th>store</th>\n",
              "      <th>product</th>\n",
              "      <th>num_sold</th>\n",
              "      <th>weekday</th>\n",
              "      <th>month</th>\n",
              "    </tr>\n",
              "    <tr>\n",
              "      <th>row_id</th>\n",
              "      <th></th>\n",
              "      <th></th>\n",
              "      <th></th>\n",
              "      <th></th>\n",
              "      <th></th>\n",
              "      <th></th>\n",
              "      <th></th>\n",
              "    </tr>\n",
              "  </thead>\n",
              "  <tbody>\n",
              "    <tr>\n",
              "      <th>0</th>\n",
              "      <td>2015-01-01</td>\n",
              "      <td>Finland</td>\n",
              "      <td>KaggleMart</td>\n",
              "      <td>Kaggle Mug</td>\n",
              "      <td>329</td>\n",
              "      <td>3</td>\n",
              "      <td>1</td>\n",
              "    </tr>\n",
              "    <tr>\n",
              "      <th>1</th>\n",
              "      <td>2015-01-01</td>\n",
              "      <td>Finland</td>\n",
              "      <td>KaggleMart</td>\n",
              "      <td>Kaggle Hat</td>\n",
              "      <td>520</td>\n",
              "      <td>3</td>\n",
              "      <td>1</td>\n",
              "    </tr>\n",
              "    <tr>\n",
              "      <th>2</th>\n",
              "      <td>2015-01-01</td>\n",
              "      <td>Finland</td>\n",
              "      <td>KaggleMart</td>\n",
              "      <td>Kaggle Sticker</td>\n",
              "      <td>146</td>\n",
              "      <td>3</td>\n",
              "      <td>1</td>\n",
              "    </tr>\n",
              "    <tr>\n",
              "      <th>3</th>\n",
              "      <td>2015-01-01</td>\n",
              "      <td>Finland</td>\n",
              "      <td>KaggleRama</td>\n",
              "      <td>Kaggle Mug</td>\n",
              "      <td>572</td>\n",
              "      <td>3</td>\n",
              "      <td>1</td>\n",
              "    </tr>\n",
              "    <tr>\n",
              "      <th>4</th>\n",
              "      <td>2015-01-01</td>\n",
              "      <td>Finland</td>\n",
              "      <td>KaggleRama</td>\n",
              "      <td>Kaggle Hat</td>\n",
              "      <td>911</td>\n",
              "      <td>3</td>\n",
              "      <td>1</td>\n",
              "    </tr>\n",
              "  </tbody>\n",
              "</table>\n",
              "</div>\n",
              "      <button class=\"colab-df-convert\" onclick=\"convertToInteractive('df-ebae7642-729b-421c-b307-1b350e5aba0f')\"\n",
              "              title=\"Convert this dataframe to an interactive table.\"\n",
              "              style=\"display:none;\">\n",
              "        \n",
              "  <svg xmlns=\"http://www.w3.org/2000/svg\" height=\"24px\"viewBox=\"0 0 24 24\"\n",
              "       width=\"24px\">\n",
              "    <path d=\"M0 0h24v24H0V0z\" fill=\"none\"/>\n",
              "    <path d=\"M18.56 5.44l.94 2.06.94-2.06 2.06-.94-2.06-.94-.94-2.06-.94 2.06-2.06.94zm-11 1L8.5 8.5l.94-2.06 2.06-.94-2.06-.94L8.5 2.5l-.94 2.06-2.06.94zm10 10l.94 2.06.94-2.06 2.06-.94-2.06-.94-.94-2.06-.94 2.06-2.06.94z\"/><path d=\"M17.41 7.96l-1.37-1.37c-.4-.4-.92-.59-1.43-.59-.52 0-1.04.2-1.43.59L10.3 9.45l-7.72 7.72c-.78.78-.78 2.05 0 2.83L4 21.41c.39.39.9.59 1.41.59.51 0 1.02-.2 1.41-.59l7.78-7.78 2.81-2.81c.8-.78.8-2.07 0-2.86zM5.41 20L4 18.59l7.72-7.72 1.47 1.35L5.41 20z\"/>\n",
              "  </svg>\n",
              "      </button>\n",
              "      \n",
              "  <style>\n",
              "    .colab-df-container {\n",
              "      display:flex;\n",
              "      flex-wrap:wrap;\n",
              "      gap: 12px;\n",
              "    }\n",
              "\n",
              "    .colab-df-convert {\n",
              "      background-color: #E8F0FE;\n",
              "      border: none;\n",
              "      border-radius: 50%;\n",
              "      cursor: pointer;\n",
              "      display: none;\n",
              "      fill: #1967D2;\n",
              "      height: 32px;\n",
              "      padding: 0 0 0 0;\n",
              "      width: 32px;\n",
              "    }\n",
              "\n",
              "    .colab-df-convert:hover {\n",
              "      background-color: #E2EBFA;\n",
              "      box-shadow: 0px 1px 2px rgba(60, 64, 67, 0.3), 0px 1px 3px 1px rgba(60, 64, 67, 0.15);\n",
              "      fill: #174EA6;\n",
              "    }\n",
              "\n",
              "    [theme=dark] .colab-df-convert {\n",
              "      background-color: #3B4455;\n",
              "      fill: #D2E3FC;\n",
              "    }\n",
              "\n",
              "    [theme=dark] .colab-df-convert:hover {\n",
              "      background-color: #434B5C;\n",
              "      box-shadow: 0px 1px 3px 1px rgba(0, 0, 0, 0.15);\n",
              "      filter: drop-shadow(0px 1px 2px rgba(0, 0, 0, 0.3));\n",
              "      fill: #FFFFFF;\n",
              "    }\n",
              "  </style>\n",
              "\n",
              "      <script>\n",
              "        const buttonEl =\n",
              "          document.querySelector('#df-ebae7642-729b-421c-b307-1b350e5aba0f button.colab-df-convert');\n",
              "        buttonEl.style.display =\n",
              "          google.colab.kernel.accessAllowed ? 'block' : 'none';\n",
              "\n",
              "        async function convertToInteractive(key) {\n",
              "          const element = document.querySelector('#df-ebae7642-729b-421c-b307-1b350e5aba0f');\n",
              "          const dataTable =\n",
              "            await google.colab.kernel.invokeFunction('convertToInteractive',\n",
              "                                                     [key], {});\n",
              "          if (!dataTable) return;\n",
              "\n",
              "          const docLinkHtml = 'Like what you see? Visit the ' +\n",
              "            '<a target=\"_blank\" href=https://colab.research.google.com/notebooks/data_table.ipynb>data table notebook</a>'\n",
              "            + ' to learn more about interactive tables.';\n",
              "          element.innerHTML = '';\n",
              "          dataTable['output_type'] = 'display_data';\n",
              "          await google.colab.output.renderOutput(dataTable, element);\n",
              "          const docLink = document.createElement('div');\n",
              "          docLink.innerHTML = docLinkHtml;\n",
              "          element.appendChild(docLink);\n",
              "        }\n",
              "      </script>\n",
              "    </div>\n",
              "  </div>\n",
              "  "
            ],
            "text/plain": [
              "             date  country       store  ... num_sold  weekday  month\n",
              "row_id                                  ...                         \n",
              "0      2015-01-01  Finland  KaggleMart  ...      329        3      1\n",
              "1      2015-01-01  Finland  KaggleMart  ...      520        3      1\n",
              "2      2015-01-01  Finland  KaggleMart  ...      146        3      1\n",
              "3      2015-01-01  Finland  KaggleRama  ...      572        3      1\n",
              "4      2015-01-01  Finland  KaggleRama  ...      911        3      1\n",
              "\n",
              "[5 rows x 7 columns]"
            ]
          },
          "metadata": {},
          "execution_count": 9
        }
      ]
    },
    {
      "cell_type": "code",
      "source": [
        "mapper = DataFrameMapper([\n",
        "     (['weekday'], OneHotEncoder()),\n",
        "     (['month'], OneHotEncoder()),\n",
        "     (['country'], OneHotEncoder()),\n",
        "     ('store', LabelBinarizer()),\n",
        "     (['product'], OneHotEncoder())\n",
        "])"
      ],
      "metadata": {
        "id": "dmzzA42ql2aU"
      },
      "execution_count": 10,
      "outputs": []
    },
    {
      "cell_type": "code",
      "source": [
        "train_data = mapper.fit_transform(df_train)\n",
        "test_data = mapper.fit_transform(df_test)"
      ],
      "metadata": {
        "colab": {
          "base_uri": "https://localhost:8080/"
        },
        "id": "OTZBbDeHnzSL",
        "outputId": "34dbfcb9-455d-4d15-e2dc-c114e1396888"
      },
      "execution_count": 11,
      "outputs": [
        {
          "output_type": "stream",
          "name": "stderr",
          "text": [
            "/usr/local/lib/python3.7/dist-packages/sklearn/utils/deprecation.py:87: FutureWarning: Function get_feature_names is deprecated; get_feature_names is deprecated in 1.0 and will be removed in 1.2. Please use get_feature_names_out instead.\n",
            "  warnings.warn(msg, category=FutureWarning)\n",
            "/usr/local/lib/python3.7/dist-packages/sklearn/utils/deprecation.py:87: FutureWarning: Function get_feature_names is deprecated; get_feature_names is deprecated in 1.0 and will be removed in 1.2. Please use get_feature_names_out instead.\n",
            "  warnings.warn(msg, category=FutureWarning)\n",
            "/usr/local/lib/python3.7/dist-packages/sklearn/utils/deprecation.py:87: FutureWarning: Function get_feature_names is deprecated; get_feature_names is deprecated in 1.0 and will be removed in 1.2. Please use get_feature_names_out instead.\n",
            "  warnings.warn(msg, category=FutureWarning)\n",
            "/usr/local/lib/python3.7/dist-packages/sklearn/utils/deprecation.py:87: FutureWarning: Function get_feature_names is deprecated; get_feature_names is deprecated in 1.0 and will be removed in 1.2. Please use get_feature_names_out instead.\n",
            "  warnings.warn(msg, category=FutureWarning)\n",
            "/usr/local/lib/python3.7/dist-packages/sklearn/utils/deprecation.py:87: FutureWarning: Function get_feature_names is deprecated; get_feature_names is deprecated in 1.0 and will be removed in 1.2. Please use get_feature_names_out instead.\n",
            "  warnings.warn(msg, category=FutureWarning)\n",
            "/usr/local/lib/python3.7/dist-packages/sklearn/utils/deprecation.py:87: FutureWarning: Function get_feature_names is deprecated; get_feature_names is deprecated in 1.0 and will be removed in 1.2. Please use get_feature_names_out instead.\n",
            "  warnings.warn(msg, category=FutureWarning)\n",
            "/usr/local/lib/python3.7/dist-packages/sklearn/utils/deprecation.py:87: FutureWarning: Function get_feature_names is deprecated; get_feature_names is deprecated in 1.0 and will be removed in 1.2. Please use get_feature_names_out instead.\n",
            "  warnings.warn(msg, category=FutureWarning)\n",
            "/usr/local/lib/python3.7/dist-packages/sklearn/utils/deprecation.py:87: FutureWarning: Function get_feature_names is deprecated; get_feature_names is deprecated in 1.0 and will be removed in 1.2. Please use get_feature_names_out instead.\n",
            "  warnings.warn(msg, category=FutureWarning)\n"
          ]
        }
      ]
    },
    {
      "cell_type": "code",
      "source": [
        "train_data[0]"
      ],
      "metadata": {
        "colab": {
          "base_uri": "https://localhost:8080/"
        },
        "id": "XElau4lMqwI8",
        "outputId": "a18fd406-76e4-4904-a050-d54dd7e90f99"
      },
      "execution_count": 12,
      "outputs": [
        {
          "output_type": "execute_result",
          "data": {
            "text/plain": [
              "array([0., 0., 0., 1., 0., 0., 0., 1., 0., 0., 0., 0., 0., 0., 0., 0., 0.,\n",
              "       0., 0., 1., 0., 0., 0., 0., 1., 0.])"
            ]
          },
          "metadata": {},
          "execution_count": 12
        }
      ]
    },
    {
      "cell_type": "code",
      "source": [
        "train_data.shape"
      ],
      "metadata": {
        "colab": {
          "base_uri": "https://localhost:8080/"
        },
        "id": "zXVIzUVNr0O8",
        "outputId": "37f82996-b4f6-4e6f-d6e9-8f3827dd7583"
      },
      "execution_count": 13,
      "outputs": [
        {
          "output_type": "execute_result",
          "data": {
            "text/plain": [
              "(26298, 26)"
            ]
          },
          "metadata": {},
          "execution_count": 13
        }
      ]
    },
    {
      "cell_type": "code",
      "source": [
        "test_data.shape"
      ],
      "metadata": {
        "colab": {
          "base_uri": "https://localhost:8080/"
        },
        "id": "fcNLLcXyuVRv",
        "outputId": "09035071-5c72-4f86-a36c-7248f129001b"
      },
      "execution_count": 14,
      "outputs": [
        {
          "output_type": "execute_result",
          "data": {
            "text/plain": [
              "(6570, 26)"
            ]
          },
          "metadata": {},
          "execution_count": 14
        }
      ]
    },
    {
      "cell_type": "code",
      "source": [
        "train_ds = torch.utils.data.TensorDataset(torch.from_numpy(train_data).float(), torch.from_numpy(df_train[\"num_sold\"].values).float())\n",
        "num_train = int(.8 * len(train_ds))\n",
        "num_val = len(train_ds) - num_train\n",
        "train_ds, val_ds = torch.utils.data.random_split(train_ds, [num_train, num_val])"
      ],
      "metadata": {
        "id": "0ZiVrEVgvYZW"
      },
      "execution_count": 15,
      "outputs": []
    },
    {
      "cell_type": "code",
      "source": [
        "len(train_ds), len(val_ds)"
      ],
      "metadata": {
        "colab": {
          "base_uri": "https://localhost:8080/"
        },
        "id": "mlUTMCCHvpZf",
        "outputId": "788b9b17-411e-4d5d-c08f-9619b00bfd31"
      },
      "execution_count": 16,
      "outputs": [
        {
          "output_type": "execute_result",
          "data": {
            "text/plain": [
              "(21038, 5260)"
            ]
          },
          "metadata": {},
          "execution_count": 16
        }
      ]
    },
    {
      "cell_type": "markdown",
      "source": [
        "## Model"
      ],
      "metadata": {
        "id": "PsAOlHG5reYd"
      }
    },
    {
      "cell_type": "code",
      "source": [
        "class SalesRegressor(nn.Module):\n",
        "  def __init__(self):\n",
        "    super(SalesRegressor, self).__init__()\n",
        "    self.linear1 = nn.Linear(26, 512)\n",
        "    self.out = nn.Linear(512, 1)\n",
        "  \n",
        "  def forward(self, inputs):\n",
        "    x = F.relu(self.linear1(inputs))\n",
        "    num_sold = self.out(x)\n",
        "\n",
        "    return num_sold"
      ],
      "metadata": {
        "id": "RcRv00xFrdoS"
      },
      "execution_count": 17,
      "outputs": []
    },
    {
      "cell_type": "code",
      "source": [
        "model = SalesRegressor()"
      ],
      "metadata": {
        "id": "_mmhZYl_sYum"
      },
      "execution_count": 18,
      "outputs": []
    },
    {
      "cell_type": "code",
      "source": [
        "pred = model(torch.from_numpy(train_data).float()[0])\n",
        "pred"
      ],
      "metadata": {
        "colab": {
          "base_uri": "https://localhost:8080/"
        },
        "id": "hcjtFe4csbI9",
        "outputId": "4506c1ac-c885-47e1-934e-3b4aa7a41c35"
      },
      "execution_count": 19,
      "outputs": [
        {
          "output_type": "execute_result",
          "data": {
            "text/plain": [
              "tensor([-0.0665], grad_fn=<AddBackward0>)"
            ]
          },
          "metadata": {},
          "execution_count": 19
        }
      ]
    },
    {
      "cell_type": "markdown",
      "source": [
        "## Optimization"
      ],
      "metadata": {
        "id": "Z6HYzwvRrfn9"
      }
    },
    {
      "cell_type": "code",
      "source": [
        "learning_rate = 1e-3\n",
        "batch_size = 64\n",
        "epochs = 50"
      ],
      "metadata": {
        "id": "1y5KsR75uaaL"
      },
      "execution_count": 20,
      "outputs": []
    },
    {
      "cell_type": "code",
      "source": [
        "train_dataloader = torch.utils.data.DataLoader(train_ds, batch_size)\n",
        "val_dataloader = torch.utils.data.DataLoader(val_ds, batch_size)"
      ],
      "metadata": {
        "id": "jxlGMgTJtusw"
      },
      "execution_count": 21,
      "outputs": []
    },
    {
      "cell_type": "code",
      "source": [
        "X, y = next(iter(train_dataloader))"
      ],
      "metadata": {
        "id": "PNHoQ58trBf0"
      },
      "execution_count": 22,
      "outputs": []
    },
    {
      "cell_type": "code",
      "source": [
        "preds = model(X)"
      ],
      "metadata": {
        "id": "aCh-Ms0MrNGC"
      },
      "execution_count": 23,
      "outputs": []
    },
    {
      "cell_type": "code",
      "source": [
        "loss = nn.MSELoss()"
      ],
      "metadata": {
        "id": "bmz3upwxtG-J"
      },
      "execution_count": 24,
      "outputs": []
    },
    {
      "cell_type": "code",
      "source": [
        "loss(preds.squeeze(), y)"
      ],
      "metadata": {
        "colab": {
          "base_uri": "https://localhost:8080/"
        },
        "id": "uxHVUFuRreYR",
        "outputId": "ec0a3dff-1ae8-40ee-c634-46f55f99a07f"
      },
      "execution_count": 25,
      "outputs": [
        {
          "output_type": "execute_result",
          "data": {
            "text/plain": [
              "tensor(308166.2500, grad_fn=<MseLossBackward0>)"
            ]
          },
          "metadata": {},
          "execution_count": 25
        }
      ]
    },
    {
      "cell_type": "code",
      "source": [
        "if torch.cuda.is_available():\n",
        "  device = 'cuda'\n",
        "else:\n",
        "  device = 'cpu'"
      ],
      "metadata": {
        "id": "QWy9IUqCucwY"
      },
      "execution_count": 26,
      "outputs": []
    },
    {
      "cell_type": "code",
      "source": [
        "model = model.to(device)"
      ],
      "metadata": {
        "id": "QBLsQNRGuinm"
      },
      "execution_count": 27,
      "outputs": []
    },
    {
      "cell_type": "code",
      "source": [
        "optimizer = torch.optim.RMSprop(model.parameters(), lr=learning_rate)"
      ],
      "metadata": {
        "id": "b6_b79pHue9A"
      },
      "execution_count": 28,
      "outputs": []
    },
    {
      "cell_type": "code",
      "source": [
        "for t in range(epochs):\n",
        "    print(f\"Epoch {t+1}\\n-------------------------------\")\n",
        "    train_loop(train_dataloader, model, loss, optimizer, device)\n",
        "    test_loop(val_dataloader, model, loss, device)\n",
        "print(\"Done!\")"
      ],
      "metadata": {
        "id": "Y5Vra8s9ukKA"
      },
      "execution_count": null,
      "outputs": []
    },
    {
      "cell_type": "markdown",
      "source": [
        "## Inference"
      ],
      "metadata": {
        "id": "8TPskTLBkkBG"
      }
    },
    {
      "cell_type": "code",
      "source": [
        "preds = model(torch.from_numpy(test_data).float())"
      ],
      "metadata": {
        "id": "sI0NEfQjuoeZ"
      },
      "execution_count": null,
      "outputs": []
    },
    {
      "cell_type": "code",
      "source": [
        "df_pred = pd.Series(preds.squeeze().detach().numpy(), name=\"num_sold\", index=df_test.index).to_frame()"
      ],
      "metadata": {
        "id": "Dg0GU5b2vTki"
      },
      "execution_count": null,
      "outputs": []
    },
    {
      "cell_type": "code",
      "source": [
        "df_pred.head()"
      ],
      "metadata": {
        "id": "hATDjEeYkQyR"
      },
      "execution_count": null,
      "outputs": []
    },
    {
      "cell_type": "code",
      "source": [
        "df_pred.to_csv(\"/content/submission.csv\")"
      ],
      "metadata": {
        "id": "0kcnFGDClD1j"
      },
      "execution_count": null,
      "outputs": []
    },
    {
      "cell_type": "code",
      "source": [
        "#!kaggle competitions submit -f /content/submission.csv -m \"nn submission\" tabular-playground-series-jan-2022"
      ],
      "metadata": {
        "id": "L7ej-aqLldDL"
      },
      "execution_count": null,
      "outputs": []
    },
    {
      "cell_type": "code",
      "source": [
        ""
      ],
      "metadata": {
        "id": "DIOQCyBflfZS"
      },
      "execution_count": null,
      "outputs": []
    }
  ]
}