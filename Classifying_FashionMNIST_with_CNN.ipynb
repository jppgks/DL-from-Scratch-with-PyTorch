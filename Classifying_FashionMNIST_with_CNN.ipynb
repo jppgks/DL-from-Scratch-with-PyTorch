{
  "nbformat": 4,
  "nbformat_minor": 0,
  "metadata": {
    "colab": {
      "name": "Classifying FashionMNIST with CNN.ipynb",
      "provenance": [],
      "collapsed_sections": [
        "rJ4UVSem73zq"
      ],
      "authorship_tag": "ABX9TyMIW9D4tqnEKFRlhvkUXW7P",
      "include_colab_link": true
    },
    "kernelspec": {
      "name": "python3",
      "display_name": "Python 3"
    },
    "language_info": {
      "name": "python"
    }
  },
  "cells": [
    {
      "cell_type": "markdown",
      "metadata": {
        "id": "view-in-github",
        "colab_type": "text"
      },
      "source": [
        "<a href=\"https://colab.research.google.com/github/jppgks/DL-from-Scratch-with-PyTorch/blob/main/Classifying_FashionMNIST_with_CNN.ipynb\" target=\"_parent\"><img src=\"https://colab.research.google.com/assets/colab-badge.svg\" alt=\"Open In Colab\"/></a>"
      ]
    },
    {
      "cell_type": "code",
      "execution_count": 66,
      "metadata": {
        "id": "0Cnbiv-Y7Gl7"
      },
      "outputs": [],
      "source": [
        "import torch\n",
        "from torch import nn\n",
        "from torch.nn import functional as F"
      ]
    },
    {
      "cell_type": "markdown",
      "source": [
        "## Data"
      ],
      "metadata": {
        "id": "rJ4UVSem73zq"
      }
    },
    {
      "cell_type": "code",
      "source": [
        "from torchvision import datasets\n",
        "from torchvision.transforms import ToTensor\n",
        "\n",
        "training_data = datasets.FashionMNIST(\n",
        "    root=\"data\",\n",
        "    train=True,\n",
        "    download=True,\n",
        "    transform=ToTensor()\n",
        ")\n",
        "\n",
        "test_data = datasets.FashionMNIST(\n",
        "    root=\"data\",\n",
        "    train=False,\n",
        "    download=True,\n",
        "    transform=ToTensor()\n",
        ")"
      ],
      "metadata": {
        "id": "8SEqOL6O7awV"
      },
      "execution_count": 67,
      "outputs": []
    },
    {
      "cell_type": "code",
      "source": [
        "img, label = training_data[0]\n",
        "img.shape"
      ],
      "metadata": {
        "colab": {
          "base_uri": "https://localhost:8080/"
        },
        "id": "6r2v5HK18OLj",
        "outputId": "bc7a91ff-b1a4-47c9-d3b9-9df581626df6"
      },
      "execution_count": 68,
      "outputs": [
        {
          "output_type": "execute_result",
          "data": {
            "text/plain": [
              "torch.Size([1, 28, 28])"
            ]
          },
          "metadata": {},
          "execution_count": 68
        }
      ]
    },
    {
      "cell_type": "code",
      "source": [
        "import matplotlib.pyplot as plt\n",
        "plt.imshow(img.squeeze(0), cmap='gray')"
      ],
      "metadata": {
        "colab": {
          "base_uri": "https://localhost:8080/",
          "height": 71
        },
        "id": "bRxbYaCg8WSS",
        "outputId": "08d2c5f0-d62a-42bd-f00d-771a185db345"
      },
      "execution_count": 69,
      "outputs": [
        {
          "output_type": "execute_result",
          "data": {
            "text/plain": [
              "<matplotlib.image.AxesImage at 0x7fae96ac7b10>"
            ]
          },
          "metadata": {},
          "execution_count": 69
        },
        {
          "output_type": "display_data",
          "data": {
            "image/png": "[encoded data removed]",
            "text/plain": [
              "<Figure size 432x288 with 1 Axes>"
            ]
          },
          "metadata": {
            "needs_background": "light"
          }
        }
      ]
    },
    {
      "cell_type": "markdown",
      "source": [
        "## Model"
      ],
      "metadata": {
        "id": "GWPw8jdG8TSy"
      }
    },
    {
      "cell_type": "code",
      "source": [
        "img.shape"
      ],
      "metadata": {
        "colab": {
          "base_uri": "https://localhost:8080/"
        },
        "id": "_TjnXEqO9tFc",
        "outputId": "e3953ccd-6f93-48d7-aba7-36bce1d52278"
      },
      "execution_count": 70,
      "outputs": [
        {
          "output_type": "execute_result",
          "data": {
            "text/plain": [
              "torch.Size([1, 28, 28])"
            ]
          },
          "metadata": {},
          "execution_count": 70
        }
      ]
    },
    {
      "cell_type": "code",
      "source": [
        "class ImageClassifier(nn.Module):\n",
        "  out_channels: int = 32\n",
        "  kernel_size: int = 3\n",
        "  stride: int = 1\n",
        "  padding: int = 1\n",
        "\n",
        "\n",
        "  def __init__(self, in_channels, input_size, num_classes):\n",
        "    super(ImageClassifier, self).__init__()\n",
        "    self.conv1 = nn.Conv2d(in_channels, self.out_channels, self.kernel_size, self.stride, self.padding)\n",
        "    \n",
        "    self.activation = nn.ReLU()\n",
        "\n",
        "    self.pool = nn.MaxPool2d(2, 2)\n",
        "\n",
        "    self.flatten = nn.Flatten(1, -1)\n",
        "    self.out = nn.Linear(int(self.out_channels * (input_size / 2) * (input_size / 2)), 10)\n",
        "\n",
        "  def forward(self, inputs):\n",
        "    x = inputs\n",
        "    x = self.conv1(x)\n",
        "    x = self.activation(x)\n",
        "    x = self.pool(x)\n",
        "    out = self.out(self.flatten(x))\n",
        "\n",
        "    return out"
      ],
      "metadata": {
        "id": "_kp5EwuE-196"
      },
      "execution_count": 71,
      "outputs": []
    },
    {
      "cell_type": "code",
      "source": [
        "model = ImageClassifier(in_channels=1, input_size=28, num_classes=10)"
      ],
      "metadata": {
        "id": "CiwJfVA1_Pzz"
      },
      "execution_count": 72,
      "outputs": []
    },
    {
      "cell_type": "code",
      "source": [
        "F.softmax(model(img.unsqueeze(0)))"
      ],
      "metadata": {
        "colab": {
          "base_uri": "https://localhost:8080/"
        },
        "id": "CioDgARh_Rw-",
        "outputId": "7f851390-05bc-492a-b296-daaf5415c339"
      },
      "execution_count": 73,
      "outputs": [
        {
          "output_type": "stream",
          "name": "stderr",
          "text": [
            "/usr/local/lib/python3.7/dist-packages/ipykernel_launcher.py:1: UserWarning: Implicit dimension choice for softmax has been deprecated. Change the call to include dim=X as an argument.\n",
            "  \"\"\"Entry point for launching an IPython kernel.\n"
          ]
        },
        {
          "output_type": "execute_result",
          "data": {
            "text/plain": [
              "tensor([[0.1301, 0.1047, 0.0865, 0.1013, 0.0715, 0.1277, 0.0906, 0.0867, 0.0991,\n",
              "         0.1017]], grad_fn=<SoftmaxBackward0>)"
            ]
          },
          "metadata": {},
          "execution_count": 73
        }
      ]
    },
    {
      "cell_type": "markdown",
      "source": [
        "## Train"
      ],
      "metadata": {
        "id": "-N1UqBGcE3Xf"
      }
    },
    {
      "cell_type": "markdown",
      "source": [
        "### Loss"
      ],
      "metadata": {
        "id": "rnkksXyzMyJD"
      }
    },
    {
      "cell_type": "code",
      "source": [
        "loss = nn.CrossEntropyLoss()"
      ],
      "metadata": {
        "id": "QPp5WUOb_ieQ"
      },
      "execution_count": 74,
      "outputs": []
    },
    {
      "cell_type": "code",
      "source": [
        "pred = model(img.unsqueeze(0))"
      ],
      "metadata": {
        "id": "ltOJscIAG7Xp"
      },
      "execution_count": 75,
      "outputs": []
    },
    {
      "cell_type": "code",
      "source": [
        "loss(pred, torch.tensor([label]))"
      ],
      "metadata": {
        "colab": {
          "base_uri": "https://localhost:8080/"
        },
        "id": "8oY7-MXoGolo",
        "outputId": "e03a5db3-1667-4c0e-a3b3-07757ce2721a"
      },
      "execution_count": 76,
      "outputs": [
        {
          "output_type": "execute_result",
          "data": {
            "text/plain": [
              "tensor(2.2853, grad_fn=<NllLossBackward0>)"
            ]
          },
          "metadata": {},
          "execution_count": 76
        }
      ]
    },
    {
      "cell_type": "markdown",
      "source": [
        "Cross entropy should equal the negative log likelihood (NLL) between predicted probabilities $p$ and target $y$. The predicted probabilies $p$ are obtained by applying log-softmax on the values predicted by the model. One-hot encoding the label gives a probability vector with all zeros except a 1 on the index of the label $y$. The NLL is reduced to a single term $-p_y*y$, with $y=1$ and $p_y=$ the log-softmax of the value predicted by the model for this label."
      ],
      "metadata": {
        "id": "V68DbPwjHhUv"
      }
    },
    {
      "cell_type": "code",
      "source": [
        "-F.log_softmax(pred, dim=1).squeeze()[label]"
      ],
      "metadata": {
        "colab": {
          "base_uri": "https://localhost:8080/"
        },
        "id": "PnuhO1HhG4iJ",
        "outputId": "5173bf2f-c0e8-40fa-89e4-e91ac27b9905"
      },
      "execution_count": 77,
      "outputs": [
        {
          "output_type": "execute_result",
          "data": {
            "text/plain": [
              "tensor(2.2853, grad_fn=<NegBackward0>)"
            ]
          },
          "metadata": {},
          "execution_count": 77
        }
      ]
    },
    {
      "cell_type": "markdown",
      "source": [
        "Log softmax is simply the log of the softmax:"
      ],
      "metadata": {
        "id": "BN0Dy9xJMW-d"
      }
    },
    {
      "cell_type": "code",
      "source": [
        "-torch.log(\n",
        "    torch.exp(pred.squeeze()[label]) / torch.sum(torch.exp(pred))\n",
        ")"
      ],
      "metadata": {
        "colab": {
          "base_uri": "https://localhost:8080/"
        },
        "id": "fNxdpZf9GsFm",
        "outputId": "fd418d77-533a-4150-90d7-d5ab2984b21b"
      },
      "execution_count": 78,
      "outputs": [
        {
          "output_type": "execute_result",
          "data": {
            "text/plain": [
              "tensor(2.2853, grad_fn=<NegBackward0>)"
            ]
          },
          "metadata": {},
          "execution_count": 78
        }
      ]
    },
    {
      "cell_type": "markdown",
      "source": [
        "### Optimization"
      ],
      "metadata": {
        "id": "rLfXah0pM2-F"
      }
    },
    {
      "cell_type": "code",
      "source": [
        "learning_rate = 1e-3\n",
        "batch_size = 64\n",
        "epochs = 5"
      ],
      "metadata": {
        "id": "w9PVzW3JzNoP"
      },
      "execution_count": 79,
      "outputs": []
    },
    {
      "cell_type": "code",
      "source": [
        "train_dataloader = torch.utils.data.DataLoader(training_data, batch_size)\n",
        "test_dataloader = torch.utils.data.DataLoader(test_data, batch_size)"
      ],
      "metadata": {
        "id": "2X8FPSE9Muaw"
      },
      "execution_count": 80,
      "outputs": []
    },
    {
      "cell_type": "code",
      "source": [
        "optimizer = torch.optim.SGD(model.parameters(), lr=learning_rate)"
      ],
      "metadata": {
        "id": "M5T8D3a5zaTI"
      },
      "execution_count": 81,
      "outputs": []
    },
    {
      "cell_type": "code",
      "source": [
        "def train_loop(dataloader, model, loss_fn, optimizer):\n",
        "    size = len(dataloader.dataset)\n",
        "    for batch, (X, y) in enumerate(dataloader):\n",
        "        # Compute prediction and loss\n",
        "        pred = model(X)\n",
        "        loss = loss_fn(pred, y)\n",
        "\n",
        "        # Backpropagation\n",
        "        optimizer.zero_grad()\n",
        "        loss.backward()\n",
        "        optimizer.step()\n",
        "\n",
        "        if batch % 100 == 0:\n",
        "            loss, current = loss.item(), batch * len(X)\n",
        "            print(f\"loss: {loss:>7f}  [{current:>5d}/{size:>5d}]\")\n",
        "\n",
        "\n",
        "def test_loop(dataloader, model, loss_fn):\n",
        "    size = len(dataloader.dataset)\n",
        "    num_batches = len(dataloader)\n",
        "    test_loss, correct = 0, 0\n",
        "\n",
        "    with torch.no_grad():\n",
        "        for X, y in dataloader:\n",
        "            pred = model(X)\n",
        "            test_loss += loss_fn(pred, y).item()\n",
        "            correct += (pred.argmax(1) == y).type(torch.float).sum().item()\n",
        "\n",
        "    test_loss /= num_batches\n",
        "    correct /= size\n",
        "    print(f\"Test Error: \\n Accuracy: {(100*correct):>0.1f}%, Avg loss: {test_loss:>8f} \\n\")"
      ],
      "metadata": {
        "id": "PVygF932ziXs"
      },
      "execution_count": 82,
      "outputs": []
    },
    {
      "cell_type": "markdown",
      "source": [
        "Does it learn? 🤔"
      ],
      "metadata": {
        "id": "ag2QuAUlNKOY"
      }
    },
    {
      "cell_type": "code",
      "source": [
        "for t in range(epochs):\n",
        "    print(f\"Epoch {t+1}\\n-------------------------------\")\n",
        "    train_loop(train_dataloader, model, loss, optimizer)\n",
        "    test_loop(test_dataloader, model, loss)\n",
        "print(\"Done!\")"
      ],
      "metadata": {
        "colab": {
          "base_uri": "https://localhost:8080/"
        },
        "id": "ETZS6JOEzjaU",
        "outputId": "f92292b3-bb73-43ee-e0e2-042741881f06"
      },
      "execution_count": 83,
      "outputs": [
        {
          "output_type": "stream",
          "name": "stdout",
          "text": [
            "Epoch 1\n",
            "-------------------------------\n",
            "loss: 2.276879  [    0/60000]\n",
            "loss: 1.964691  [ 6400/60000]\n",
            "loss: 1.631537  [12800/60000]\n",
            "loss: 1.550949  [19200/60000]\n",
            "loss: 1.243538  [25600/60000]\n",
            "loss: 1.203669  [32000/60000]\n",
            "loss: 1.130729  [38400/60000]\n",
            "loss: 1.007335  [44800/60000]\n",
            "loss: 1.033858  [51200/60000]\n",
            "loss: 0.957286  [57600/60000]\n",
            "Test Error: \n",
            " Accuracy: 72.5%, Avg loss: 0.917108 \n",
            "\n",
            "Epoch 2\n",
            "-------------------------------\n",
            "loss: 0.930932  [    0/60000]\n",
            "loss: 0.964112  [ 6400/60000]\n",
            "loss: 0.717423  [12800/60000]\n",
            "loss: 0.958476  [19200/60000]\n",
            "loss: 0.792887  [25600/60000]\n",
            "loss: 0.816744  [32000/60000]\n",
            "loss: 0.822801  [38400/60000]\n",
            "loss: 0.743424  [44800/60000]\n",
            "loss: 0.815763  [51200/60000]\n",
            "loss: 0.783646  [57600/60000]\n",
            "Test Error: \n",
            " Accuracy: 75.1%, Avg loss: 0.735975 \n",
            "\n",
            "Epoch 3\n",
            "-------------------------------\n",
            "loss: 0.699690  [    0/60000]\n",
            "loss: 0.800951  [ 6400/60000]\n",
            "loss: 0.548993  [12800/60000]\n",
            "loss: 0.830462  [19200/60000]\n",
            "loss: 0.703342  [25600/60000]\n",
            "loss: 0.716799  [32000/60000]\n",
            "loss: 0.734793  [38400/60000]\n",
            "loss: 0.678563  [44800/60000]\n",
            "loss: 0.745988  [51200/60000]\n",
            "loss: 0.714802  [57600/60000]\n",
            "Test Error: \n",
            " Accuracy: 76.9%, Avg loss: 0.666941 \n",
            "\n",
            "Epoch 4\n",
            "-------------------------------\n",
            "loss: 0.604566  [    0/60000]\n",
            "loss: 0.727809  [ 6400/60000]\n",
            "loss: 0.481755  [12800/60000]\n",
            "loss: 0.764018  [19200/60000]\n",
            "loss: 0.654892  [25600/60000]\n",
            "loss: 0.665601  [32000/60000]\n",
            "loss: 0.685481  [38400/60000]\n",
            "loss: 0.652391  [44800/60000]\n",
            "loss: 0.710871  [51200/60000]\n",
            "loss: 0.669883  [57600/60000]\n",
            "Test Error: \n",
            " Accuracy: 78.3%, Avg loss: 0.626354 \n",
            "\n",
            "Epoch 5\n",
            "-------------------------------\n",
            "loss: 0.548450  [    0/60000]\n",
            "loss: 0.679252  [ 6400/60000]\n",
            "loss: 0.443146  [12800/60000]\n",
            "loss: 0.718468  [19200/60000]\n",
            "loss: 0.620296  [25600/60000]\n",
            "loss: 0.632218  [32000/60000]\n",
            "loss: 0.650019  [38400/60000]\n",
            "loss: 0.639337  [44800/60000]\n",
            "loss: 0.690135  [51200/60000]\n",
            "loss: 0.634812  [57600/60000]\n",
            "Test Error: \n",
            " Accuracy: 78.9%, Avg loss: 0.598166 \n",
            "\n",
            "Done!\n"
          ]
        }
      ]
    },
    {
      "cell_type": "markdown",
      "source": [
        "It does! 🥳"
      ],
      "metadata": {
        "id": "1RkT8KTE2pAf"
      }
    },
    {
      "cell_type": "markdown",
      "source": [
        "## Inference"
      ],
      "metadata": {
        "id": "OSiSZE7RNFIF"
      }
    },
    {
      "cell_type": "code",
      "source": [
        "imgs, labels = next(iter(test_dataloader))"
      ],
      "metadata": {
        "id": "GfOoa39LNHw2"
      },
      "execution_count": 88,
      "outputs": []
    },
    {
      "cell_type": "code",
      "source": [
        "labels_pred = model(imgs)"
      ],
      "metadata": {
        "id": "M0iVChpy1sFE"
      },
      "execution_count": 89,
      "outputs": []
    },
    {
      "cell_type": "code",
      "source": [
        "labels"
      ],
      "metadata": {
        "colab": {
          "base_uri": "https://localhost:8080/"
        },
        "id": "uLgUyuE612LJ",
        "outputId": "7876299b-7905-41bb-aaea-116ca18fa794"
      },
      "execution_count": 90,
      "outputs": [
        {
          "output_type": "execute_result",
          "data": {
            "text/plain": [
              "tensor([9, 2, 1, 1, 6, 1, 4, 6, 5, 7, 4, 5, 7, 3, 4, 1, 2, 4, 8, 0, 2, 5, 7, 9,\n",
              "        1, 4, 6, 0, 9, 3, 8, 8, 3, 3, 8, 0, 7, 5, 7, 9, 6, 1, 3, 7, 6, 7, 2, 1,\n",
              "        2, 2, 4, 4, 5, 8, 2, 2, 8, 4, 8, 0, 7, 7, 8, 5])"
            ]
          },
          "metadata": {},
          "execution_count": 90
        }
      ]
    },
    {
      "cell_type": "code",
      "source": [
        "labels_pred.argmax(1)"
      ],
      "metadata": {
        "colab": {
          "base_uri": "https://localhost:8080/"
        },
        "id": "TGMCdLog149U",
        "outputId": "e5e90be2-b219-4474-a879-0ecbdc689107"
      },
      "execution_count": 92,
      "outputs": [
        {
          "output_type": "execute_result",
          "data": {
            "text/plain": [
              "tensor([9, 2, 1, 1, 6, 1, 4, 6, 5, 7, 4, 5, 5, 3, 4, 1, 2, 6, 8, 0, 0, 7, 7, 5,\n",
              "        1, 2, 4, 3, 9, 3, 8, 8, 3, 3, 8, 0, 7, 5, 7, 9, 0, 1, 3, 9, 6, 5, 2, 1,\n",
              "        4, 6, 2, 2, 5, 6, 4, 2, 8, 4, 8, 0, 7, 7, 8, 5])"
            ]
          },
          "metadata": {},
          "execution_count": 92
        }
      ]
    }
  ]
}