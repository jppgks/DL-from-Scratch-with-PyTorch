{
  "nbformat": 4,
  "nbformat_minor": 0,
  "metadata": {
    "colab": {
      "name": "Classifying FashionMNIST with CNN.ipynb",
      "provenance": [],
      "collapsed_sections": [],
      "authorship_tag": "ABX9TyMAg7x4jIHRrKWR8ycuj6S6",
      "include_colab_link": true
    },
    "kernelspec": {
      "name": "python3",
      "display_name": "Python 3"
    },
    "language_info": {
      "name": "python"
    },
    "accelerator": "GPU"
  },
  "cells": [
    {
      "cell_type": "markdown",
      "metadata": {
        "id": "view-in-github",
        "colab_type": "text"
      },
      "source": [
        "<a href=\"https://colab.research.google.com/github/jppgks/DL-from-Scratch-with-PyTorch/blob/main/Classifying_FashionMNIST_with_CNN.ipynb\" target=\"_parent\"><img src=\"https://colab.research.google.com/assets/colab-badge.svg\" alt=\"Open In Colab\"/></a>"
      ]
    },
    {
      "cell_type": "code",
      "execution_count": 1,
      "metadata": {
        "id": "0Cnbiv-Y7Gl7"
      },
      "outputs": [],
      "source": [
        "import torch\n",
        "from torch import nn\n",
        "from torch.nn import functional as F"
      ]
    },
    {
      "cell_type": "markdown",
      "source": [
        "## Data"
      ],
      "metadata": {
        "id": "rJ4UVSem73zq"
      }
    },
    {
      "cell_type": "code",
      "source": [
        "from torchvision import datasets\n",
        "from torchvision.transforms import ToTensor\n",
        "\n",
        "training_data = datasets.FashionMNIST(\n",
        "    root=\"data\",\n",
        "    train=True,\n",
        "    download=True,\n",
        "    transform=ToTensor()\n",
        ")\n",
        "\n",
        "test_data = datasets.FashionMNIST(\n",
        "    root=\"data\",\n",
        "    train=False,\n",
        "    download=True,\n",
        "    transform=ToTensor()\n",
        ")"
      ],
      "metadata": {
        "id": "8SEqOL6O7awV"
      },
      "execution_count": 2,
      "outputs": []
    },
    {
      "cell_type": "code",
      "source": [
        "img, label = training_data[0]\n",
        "img.shape"
      ],
      "metadata": {
        "colab": {
          "base_uri": "https://localhost:8080/"
        },
        "id": "6r2v5HK18OLj",
        "outputId": "f75feb97-cce3-4e90-febf-0ce79459a807"
      },
      "execution_count": 3,
      "outputs": [
        {
          "output_type": "execute_result",
          "data": {
            "text/plain": [
              "torch.Size([1, 28, 28])"
            ]
          },
          "metadata": {},
          "execution_count": 3
        }
      ]
    },
    {
      "cell_type": "code",
      "source": [
        "import matplotlib.pyplot as plt\n",
        "plt.imshow(img.squeeze(0), cmap='gray')"
      ],
      "metadata": {
        "colab": {
          "base_uri": "https://localhost:8080/",
          "height": 282
        },
        "id": "bRxbYaCg8WSS",
        "outputId": "a49e71bb-db0a-405d-cb99-8f6abe6c26b5"
      },
      "execution_count": 4,
      "outputs": [
        {
          "output_type": "execute_result",
          "data": {
            "text/plain": [
              "<matplotlib.image.AxesImage at 0x7f17a9926a10>"
            ]
          },
          "metadata": {},
          "execution_count": 4
        },
        {
          "output_type": "display_data",
          "data": {
            "image/png": "[encoded data removed]",
            "text/plain": [
              "<Figure size 432x288 with 1 Axes>"
            ]
          },
          "metadata": {
            "needs_background": "light"
          }
        }
      ]
    },
    {
      "cell_type": "markdown",
      "source": [
        "## Model"
      ],
      "metadata": {
        "id": "GWPw8jdG8TSy"
      }
    },
    {
      "cell_type": "code",
      "source": [
        "img.shape"
      ],
      "metadata": {
        "colab": {
          "base_uri": "https://localhost:8080/"
        },
        "id": "_TjnXEqO9tFc",
        "outputId": "a2347394-48c5-4d62-a0e3-2bda74579202"
      },
      "execution_count": 5,
      "outputs": [
        {
          "output_type": "execute_result",
          "data": {
            "text/plain": [
              "torch.Size([1, 28, 28])"
            ]
          },
          "metadata": {},
          "execution_count": 5
        }
      ]
    },
    {
      "cell_type": "code",
      "source": [
        "class ImageClassifier(nn.Module):\n",
        "  out_channels: int = 32\n",
        "  kernel_size: int = 3\n",
        "  stride: int = 1\n",
        "  padding: int = 1\n",
        "\n",
        "\n",
        "  def __init__(self, in_channels, input_size, num_classes):\n",
        "    super(ImageClassifier, self).__init__()\n",
        "    self.conv1 = nn.Conv2d(in_channels, self.out_channels, self.kernel_size, self.stride, self.padding)\n",
        "    \n",
        "    self.activation = nn.ReLU()\n",
        "\n",
        "    self.pool = nn.MaxPool2d(2, 2)\n",
        "\n",
        "    self.flatten = nn.Flatten(1, -1)\n",
        "    self.out = nn.Linear(int(self.out_channels * (input_size / 2) * (input_size / 2)), 10)\n",
        "\n",
        "  def forward(self, inputs):\n",
        "    x = inputs\n",
        "    x = self.conv1(x)\n",
        "    x = self.activation(x)\n",
        "    x = self.pool(x)\n",
        "    out = self.out(self.flatten(x))\n",
        "\n",
        "    return out"
      ],
      "metadata": {
        "id": "_kp5EwuE-196"
      },
      "execution_count": 6,
      "outputs": []
    },
    {
      "cell_type": "code",
      "source": [
        "model = ImageClassifier(in_channels=1, input_size=28, num_classes=10)"
      ],
      "metadata": {
        "id": "CiwJfVA1_Pzz"
      },
      "execution_count": 7,
      "outputs": []
    },
    {
      "cell_type": "code",
      "source": [
        "F.softmax(model(img.unsqueeze(0)))"
      ],
      "metadata": {
        "colab": {
          "base_uri": "https://localhost:8080/"
        },
        "id": "CioDgARh_Rw-",
        "outputId": "4f9cc887-a1b7-405f-d4ed-3e45e38f687d"
      },
      "execution_count": 8,
      "outputs": [
        {
          "output_type": "stream",
          "name": "stderr",
          "text": [
            "/usr/local/lib/python3.7/dist-packages/ipykernel_launcher.py:1: UserWarning: Implicit dimension choice for softmax has been deprecated. Change the call to include dim=X as an argument.\n",
            "  \"\"\"Entry point for launching an IPython kernel.\n"
          ]
        },
        {
          "output_type": "execute_result",
          "data": {
            "text/plain": [
              "tensor([[0.0869, 0.0715, 0.1026, 0.0915, 0.1181, 0.1098, 0.0775, 0.1183, 0.1258,\n",
              "         0.0979]], grad_fn=<SoftmaxBackward0>)"
            ]
          },
          "metadata": {},
          "execution_count": 8
        }
      ]
    },
    {
      "cell_type": "markdown",
      "source": [
        "## Train"
      ],
      "metadata": {
        "id": "-N1UqBGcE3Xf"
      }
    },
    {
      "cell_type": "markdown",
      "source": [
        "### Loss"
      ],
      "metadata": {
        "id": "rnkksXyzMyJD"
      }
    },
    {
      "cell_type": "code",
      "source": [
        "loss = nn.CrossEntropyLoss()"
      ],
      "metadata": {
        "id": "QPp5WUOb_ieQ"
      },
      "execution_count": 9,
      "outputs": []
    },
    {
      "cell_type": "code",
      "source": [
        "pred = model(img.unsqueeze(0))"
      ],
      "metadata": {
        "id": "ltOJscIAG7Xp"
      },
      "execution_count": 10,
      "outputs": []
    },
    {
      "cell_type": "code",
      "source": [
        "loss(pred, torch.tensor([label]))"
      ],
      "metadata": {
        "colab": {
          "base_uri": "https://localhost:8080/"
        },
        "id": "8oY7-MXoGolo",
        "outputId": "0a460a32-5efd-48b1-9147-1e7413a1c64c"
      },
      "execution_count": 11,
      "outputs": [
        {
          "output_type": "execute_result",
          "data": {
            "text/plain": [
              "tensor(2.3235, grad_fn=<NllLossBackward0>)"
            ]
          },
          "metadata": {},
          "execution_count": 11
        }
      ]
    },
    {
      "cell_type": "markdown",
      "source": [
        "Cross entropy should equal the negative log likelihood (NLL) between predicted probabilities $p$ and target $y$. The predicted probabilies $p$ are obtained by applying log-softmax on the values predicted by the model. One-hot encoding the label gives a probability vector with all zeros except a 1 on the index of the label $y$. The NLL is reduced to a single term $-p_y*y$, with $y=1$ and $p_y=$ the log-softmax of the value predicted by the model for this label."
      ],
      "metadata": {
        "id": "V68DbPwjHhUv"
      }
    },
    {
      "cell_type": "code",
      "source": [
        "-F.log_softmax(pred, dim=1).squeeze()[label]"
      ],
      "metadata": {
        "colab": {
          "base_uri": "https://localhost:8080/"
        },
        "id": "PnuhO1HhG4iJ",
        "outputId": "f86daa46-86f8-4181-c79c-3c6ae1ba4af6"
      },
      "execution_count": 12,
      "outputs": [
        {
          "output_type": "execute_result",
          "data": {
            "text/plain": [
              "tensor(2.3235, grad_fn=<NegBackward0>)"
            ]
          },
          "metadata": {},
          "execution_count": 12
        }
      ]
    },
    {
      "cell_type": "markdown",
      "source": [
        "Log softmax is simply the log of the softmax:"
      ],
      "metadata": {
        "id": "BN0Dy9xJMW-d"
      }
    },
    {
      "cell_type": "code",
      "source": [
        "-torch.log(\n",
        "    torch.exp(pred.squeeze()[label]) / torch.sum(torch.exp(pred))\n",
        ")"
      ],
      "metadata": {
        "colab": {
          "base_uri": "https://localhost:8080/"
        },
        "id": "fNxdpZf9GsFm",
        "outputId": "0b445ff6-9193-4051-e7f1-2c231f6a2cdf"
      },
      "execution_count": 13,
      "outputs": [
        {
          "output_type": "execute_result",
          "data": {
            "text/plain": [
              "tensor(2.3235, grad_fn=<NegBackward0>)"
            ]
          },
          "metadata": {},
          "execution_count": 13
        }
      ]
    },
    {
      "cell_type": "markdown",
      "source": [
        "### Optimization"
      ],
      "metadata": {
        "id": "rLfXah0pM2-F"
      }
    },
    {
      "cell_type": "code",
      "source": [
        "learning_rate = 1e-3\n",
        "batch_size = 64\n",
        "epochs = 5"
      ],
      "metadata": {
        "id": "w9PVzW3JzNoP"
      },
      "execution_count": 14,
      "outputs": []
    },
    {
      "cell_type": "code",
      "source": [
        "train_dataloader = torch.utils.data.DataLoader(training_data, batch_size)\n",
        "test_dataloader = torch.utils.data.DataLoader(test_data, batch_size)"
      ],
      "metadata": {
        "id": "2X8FPSE9Muaw"
      },
      "execution_count": 15,
      "outputs": []
    },
    {
      "cell_type": "code",
      "source": [
        "if torch.cuda.is_available():\n",
        "  device = 'cuda'\n",
        "else:\n",
        "  device = 'cpu'"
      ],
      "metadata": {
        "id": "vRKci_PO9bAj"
      },
      "execution_count": 16,
      "outputs": []
    },
    {
      "cell_type": "code",
      "source": [
        "optimizer = torch.optim.SGD(model.parameters(), lr=learning_rate)"
      ],
      "metadata": {
        "id": "M5T8D3a5zaTI"
      },
      "execution_count": 17,
      "outputs": []
    },
    {
      "cell_type": "markdown",
      "source": [
        "Does it learn? 🤔"
      ],
      "metadata": {
        "id": "ag2QuAUlNKOY"
      }
    },
    {
      "cell_type": "code",
      "source": [
        "from utils import train_loop, test_loop"
      ],
      "metadata": {
        "id": "PVygF932ziXs"
      },
      "execution_count": 18,
      "outputs": []
    },
    {
      "cell_type": "code",
      "source": [
        "model = model.to(device)"
      ],
      "metadata": {
        "id": "U8LY3FZA7SVi"
      },
      "execution_count": 19,
      "outputs": []
    },
    {
      "cell_type": "code",
      "source": [
        "for t in range(epochs):\n",
        "    print(f\"Epoch {t+1}\\n-------------------------------\")\n",
        "    train_loop(train_dataloader, model, loss, optimizer, device)\n",
        "    test_loop(test_dataloader, model, loss, device)\n",
        "print(\"Done!\")"
      ],
      "metadata": {
        "colab": {
          "base_uri": "https://localhost:8080/"
        },
        "id": "ETZS6JOEzjaU",
        "outputId": "c7bfb1ea-325a-49a6-cded-696799bdbe77"
      },
      "execution_count": 20,
      "outputs": [
        {
          "output_type": "stream",
          "name": "stdout",
          "text": [
            "Epoch 1\n",
            "-------------------------------\n",
            "loss: 2.285501  [    0/60000]\n",
            "loss: 1.907418  [ 6400/60000]\n",
            "loss: 1.572494  [12800/60000]\n",
            "loss: 1.490592  [19200/60000]\n",
            "loss: 1.201836  [25600/60000]\n",
            "loss: 1.164407  [32000/60000]\n",
            "loss: 1.089929  [38400/60000]\n",
            "loss: 0.979384  [44800/60000]\n",
            "loss: 1.023205  [51200/60000]\n",
            "loss: 0.942632  [57600/60000]\n",
            "Test Error: \n",
            " Accuracy: 72.9%, Avg loss: 0.898662 \n",
            "\n",
            "Epoch 2\n",
            "-------------------------------\n",
            "loss: 0.907598  [    0/60000]\n",
            "loss: 0.948437  [ 6400/60000]\n",
            "loss: 0.707895  [12800/60000]\n",
            "loss: 0.949737  [19200/60000]\n",
            "loss: 0.788256  [25600/60000]\n",
            "loss: 0.810568  [32000/60000]\n",
            "loss: 0.807489  [38400/60000]\n",
            "loss: 0.741550  [44800/60000]\n",
            "loss: 0.822859  [51200/60000]\n",
            "loss: 0.784392  [57600/60000]\n",
            "Test Error: \n",
            " Accuracy: 75.3%, Avg loss: 0.730825 \n",
            "\n",
            "Epoch 3\n",
            "-------------------------------\n",
            "loss: 0.689867  [    0/60000]\n",
            "loss: 0.795728  [ 6400/60000]\n",
            "loss: 0.549845  [12800/60000]\n",
            "loss: 0.829520  [19200/60000]\n",
            "loss: 0.699001  [25600/60000]\n",
            "loss: 0.716696  [32000/60000]\n",
            "loss: 0.723406  [38400/60000]\n",
            "loss: 0.682888  [44800/60000]\n",
            "loss: 0.755993  [51200/60000]\n",
            "loss: 0.718132  [57600/60000]\n",
            "Test Error: \n",
            " Accuracy: 77.0%, Avg loss: 0.664655 \n",
            "\n",
            "Epoch 4\n",
            "-------------------------------\n",
            "loss: 0.598779  [    0/60000]\n",
            "loss: 0.725166  [ 6400/60000]\n",
            "loss: 0.485308  [12800/60000]\n",
            "loss: 0.765331  [19200/60000]\n",
            "loss: 0.648983  [25600/60000]\n",
            "loss: 0.668382  [32000/60000]\n",
            "loss: 0.675465  [38400/60000]\n",
            "loss: 0.659456  [44800/60000]\n",
            "loss: 0.721951  [51200/60000]\n",
            "loss: 0.673534  [57600/60000]\n",
            "Test Error: \n",
            " Accuracy: 78.3%, Avg loss: 0.625339 \n",
            "\n",
            "Epoch 5\n",
            "-------------------------------\n",
            "loss: 0.544908  [    0/60000]\n",
            "loss: 0.678066  [ 6400/60000]\n",
            "loss: 0.448029  [12800/60000]\n",
            "loss: 0.721097  [19200/60000]\n",
            "loss: 0.613178  [25600/60000]\n",
            "loss: 0.637085  [32000/60000]\n",
            "loss: 0.640558  [38400/60000]\n",
            "loss: 0.647957  [44800/60000]\n",
            "loss: 0.701761  [51200/60000]\n",
            "loss: 0.638134  [57600/60000]\n",
            "Test Error: \n",
            " Accuracy: 79.1%, Avg loss: 0.597853 \n",
            "\n",
            "Done!\n"
          ]
        }
      ]
    },
    {
      "cell_type": "markdown",
      "source": [
        "It does! 🥳"
      ],
      "metadata": {
        "id": "1RkT8KTE2pAf"
      }
    },
    {
      "cell_type": "markdown",
      "source": [
        "## Inference"
      ],
      "metadata": {
        "id": "OSiSZE7RNFIF"
      }
    },
    {
      "cell_type": "code",
      "source": [
        "imgs, labels = next(iter(test_dataloader))\n",
        "imgs, labels = imgs.to(device), labels.to(device)"
      ],
      "metadata": {
        "id": "GfOoa39LNHw2"
      },
      "execution_count": 23,
      "outputs": []
    },
    {
      "cell_type": "code",
      "source": [
        "labels_pred = model(imgs)"
      ],
      "metadata": {
        "id": "M0iVChpy1sFE"
      },
      "execution_count": 24,
      "outputs": []
    },
    {
      "cell_type": "code",
      "source": [
        "labels"
      ],
      "metadata": {
        "colab": {
          "base_uri": "https://localhost:8080/"
        },
        "id": "uLgUyuE612LJ",
        "outputId": "d89a4e7f-6743-45b9-d7e3-d8a61a3a113d"
      },
      "execution_count": 25,
      "outputs": [
        {
          "output_type": "execute_result",
          "data": {
            "text/plain": [
              "tensor([9, 2, 1, 1, 6, 1, 4, 6, 5, 7, 4, 5, 7, 3, 4, 1, 2, 4, 8, 0, 2, 5, 7, 9,\n",
              "        1, 4, 6, 0, 9, 3, 8, 8, 3, 3, 8, 0, 7, 5, 7, 9, 6, 1, 3, 7, 6, 7, 2, 1,\n",
              "        2, 2, 4, 4, 5, 8, 2, 2, 8, 4, 8, 0, 7, 7, 8, 5], device='cuda:0')"
            ]
          },
          "metadata": {},
          "execution_count": 25
        }
      ]
    },
    {
      "cell_type": "code",
      "source": [
        "labels_pred.argmax(1)"
      ],
      "metadata": {
        "colab": {
          "base_uri": "https://localhost:8080/"
        },
        "id": "TGMCdLog149U",
        "outputId": "c0051c36-1f01-4ffa-cfd5-752efb6934f8"
      },
      "execution_count": 26,
      "outputs": [
        {
          "output_type": "execute_result",
          "data": {
            "text/plain": [
              "tensor([9, 2, 1, 1, 6, 1, 4, 6, 5, 7, 4, 5, 5, 3, 4, 1, 2, 6, 8, 0, 0, 7, 7, 7,\n",
              "        1, 2, 4, 3, 9, 3, 8, 8, 3, 3, 8, 0, 7, 5, 7, 9, 0, 1, 3, 9, 6, 5, 2, 1,\n",
              "        4, 6, 2, 2, 5, 6, 4, 2, 8, 4, 8, 0, 7, 7, 8, 5], device='cuda:0')"
            ]
          },
          "metadata": {},
          "execution_count": 26
        }
      ]
    }
  ]
}