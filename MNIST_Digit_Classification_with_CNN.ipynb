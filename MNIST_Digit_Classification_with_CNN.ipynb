{
  "nbformat": 4,
  "nbformat_minor": 0,
  "metadata": {
    "colab": {
      "name": "MNIST Digit Classification with CNN.ipynb",
      "provenance": [],
      "authorship_tag": "ABX9TyNSfHx1byAQja52wD221KTU",
      "include_colab_link": true
    },
    "kernelspec": {
      "name": "python3",
      "display_name": "Python 3"
    },
    "language_info": {
      "name": "python"
    }
  },
  "cells": [
    {
      "cell_type": "markdown",
      "metadata": {
        "id": "view-in-github",
        "colab_type": "text"
      },
      "source": [
        "<a href=\"https://colab.research.google.com/github/jppgks/DL-from-Scratch-with-PyTorch/blob/main/MNIST_Digit_Classification_with_CNN.ipynb\" target=\"_parent\"><img src=\"https://colab.research.google.com/assets/colab-badge.svg\" alt=\"Open In Colab\"/></a>"
      ]
    },
    {
      "cell_type": "code",
      "source": [
        "import torch\n",
        "from torch import nn\n",
        "from torch.nn import functional as F"
      ],
      "metadata": {
        "id": "qSJUWmwcpWBP"
      },
      "execution_count": 66,
      "outputs": []
    },
    {
      "cell_type": "markdown",
      "source": [
        "## Data"
      ],
      "metadata": {
        "id": "ajxgIrAWP0_d"
      }
    },
    {
      "cell_type": "code",
      "source": [
        "filenames = {\n",
        "    \"train\": {\n",
        "        \"images\": \"train-images-idx3-ubyte.gz\", \n",
        "        \"labels\": \"train-labels-idx1-ubyte.gz\"\n",
        "    },\n",
        "    \"test\": {\n",
        "        \"images\": \"t10k-images-idx3-ubyte.gz\", \n",
        "        \"labels\": \"t10k-labels-idx1-ubyte.gz\"\n",
        "    }\n",
        "}"
      ],
      "metadata": {
        "id": "CDg-sgUIYDs_"
      },
      "execution_count": 149,
      "outputs": []
    },
    {
      "cell_type": "code",
      "execution_count": 150,
      "metadata": {
        "id": "VuPvUdQvPx5c"
      },
      "outputs": [],
      "source": [
        "for fn in [fn for v in filenames.values() for fn in v.values()]:\n",
        "  !wget -q \"http://yann.lecun.com/exdb/mnist/{fn}\""
      ]
    },
    {
      "cell_type": "code",
      "source": [
        "import gzip\n",
        "import numpy as np\n",
        "\n",
        "images = dict()\n",
        "labels = dict()\n",
        "\n",
        "image_size = 28\n",
        "for split, fns in filenames.items():\n",
        "  num_samples = 60000 if split == \"train\" else 10000\n",
        "\n",
        "  with gzip.open(fns[\"images\"], 'r') as f:  \n",
        "    f.read(16)\n",
        "    buf = f.read(image_size * image_size * num_samples)\n",
        "    data = torch.frombuffer(buf, dtype=torch.uint8).float()\n",
        "    images[split] = data.reshape(num_samples, 1, image_size, image_size)\n",
        "  \n",
        "  with gzip.open(fns[\"labels\"],'r') as f:\n",
        "    f.read(8)\n",
        "    buf = f.read(num_samples)\n",
        "    labels[split] = torch.frombuffer(buf, dtype=torch.uint8).type(torch.int64)"
      ],
      "metadata": {
        "id": "tlw38wblQTs0"
      },
      "execution_count": 151,
      "outputs": []
    },
    {
      "cell_type": "code",
      "source": [
        "images[\"train\"].shape, labels[\"train\"].shape"
      ],
      "metadata": {
        "colab": {
          "base_uri": "https://localhost:8080/"
        },
        "id": "fmS2GBHEo4M1",
        "outputId": "dd3cbe3c-9b50-4ae7-e545-24477401aa0f"
      },
      "execution_count": 152,
      "outputs": [
        {
          "output_type": "execute_result",
          "data": {
            "text/plain": [
              "(torch.Size([60000, 1, 28, 28]), torch.Size([60000]))"
            ]
          },
          "metadata": {},
          "execution_count": 152
        }
      ]
    },
    {
      "cell_type": "code",
      "source": [
        "images[\"test\"].shape, labels[\"test\"].shape"
      ],
      "metadata": {
        "colab": {
          "base_uri": "https://localhost:8080/"
        },
        "id": "ZZQfE6qhpF2k",
        "outputId": "5a968589-d9fa-488a-eedd-9fc2b407a6fe"
      },
      "execution_count": 153,
      "outputs": [
        {
          "output_type": "execute_result",
          "data": {
            "text/plain": [
              "(torch.Size([10000, 1, 28, 28]), torch.Size([10000]))"
            ]
          },
          "metadata": {},
          "execution_count": 153
        }
      ]
    },
    {
      "cell_type": "code",
      "source": [
        "import matplotlib.pyplot as plt\n",
        "\n",
        "def plot_test_img(i: int):\n",
        "  print(labels[\"test\"][i])\n",
        "  image = images[\"test\"][i].squeeze().numpy()\n",
        "  plt.imshow(image, cmap=\"gray\")\n",
        "  plt.show()\n",
        "\n",
        "plot_test_img(0)"
      ],
      "metadata": {
        "colab": {
          "base_uri": "https://localhost:8080/",
          "height": 282
        },
        "id": "q9IxfjCmSJnW",
        "outputId": "59bbb79d-c657-460a-ab25-0410b37f044d"
      },
      "execution_count": 155,
      "outputs": [
        {
          "output_type": "stream",
          "name": "stdout",
          "text": [
            "tensor(7)\n"
          ]
        },
        {
          "output_type": "display_data",
          "data": {
            "image/png": "[encoded data removed]",
            "text/plain": [
              "<Figure size 432x288 with 1 Axes>"
            ]
          },
          "metadata": {
            "needs_background": "light"
          }
        }
      ]
    },
    {
      "cell_type": "markdown",
      "source": [
        "## Model"
      ],
      "metadata": {
        "id": "3xBmEycUqFP_"
      }
    },
    {
      "cell_type": "code",
      "source": [
        "class ImageClassifier(nn.Module):\n",
        "  out_channels = 32\n",
        "  kernel_size = 3\n",
        "  stride = 1\n",
        "  padding = 1\n",
        "\n",
        "  def __init__(self, in_channels, width, height, num_classes):\n",
        "    super(ImageClassifier, self).__init__()\n",
        "\n",
        "    self.conv1 = nn.Conv2d(in_channels, self.out_channels, self.kernel_size, self.stride, self.padding)\n",
        "    self.activation = nn.ReLU()\n",
        "    self.pool = nn.MaxPool2d(2, 2)\n",
        "\n",
        "    self.flatten = nn.Flatten()\n",
        "    self.cls_head = nn.Linear(self.out_channels * (width // 2) * (height // 2), num_classes)\n",
        "  \n",
        "  def forward(self, inputs):\n",
        "    x = self.conv1(inputs)\n",
        "    x = self.activation(x)\n",
        "    assert x.shape[2:] == inputs.shape[2:]\n",
        "\n",
        "    x = self.pool(x)\n",
        "    assert x.shape[2] == (inputs.shape[2] // 2)\n",
        "    assert x.shape[3] == (inputs.shape[3] // 2)\n",
        "\n",
        "    out = self.cls_head(self.flatten(x))\n",
        "\n",
        "    return out"
      ],
      "metadata": {
        "id": "jBlWbwXmntn3"
      },
      "execution_count": 119,
      "outputs": []
    },
    {
      "cell_type": "code",
      "source": [
        "model = ImageClassifier(in_channels=1, width=28, height=28, num_classes=len(labels[\"train\"].unique()))"
      ],
      "metadata": {
        "id": "pZFsZyd9rGAB"
      },
      "execution_count": 120,
      "outputs": []
    },
    {
      "cell_type": "code",
      "source": [
        "model(images[\"train\"][:2])"
      ],
      "metadata": {
        "colab": {
          "base_uri": "https://localhost:8080/"
        },
        "id": "IpRHBt3XrWZ0",
        "outputId": "e5f77dc4-3997-4a9b-f53c-8216cf40213e"
      },
      "execution_count": 121,
      "outputs": [
        {
          "output_type": "execute_result",
          "data": {
            "text/plain": [
              "tensor([[  8.5442,   6.2514, -10.9981,  22.5418, -13.0837,  -9.0850, -10.5234,\n",
              "           6.5593,  -0.7001, -14.6719],\n",
              "        [-10.0452,  16.7046, -21.3923,  54.1753, -10.7558,   6.7363,  -4.8050,\n",
              "          11.5664,   9.4118,  28.9595]], grad_fn=<AddmmBackward0>)"
            ]
          },
          "metadata": {},
          "execution_count": 121
        }
      ]
    },
    {
      "cell_type": "markdown",
      "source": [
        "## Optimization"
      ],
      "metadata": {
        "id": "v42TUhwxv8E1"
      }
    },
    {
      "cell_type": "code",
      "source": [
        "dataset = torch.utils.data.TensorDataset(images[\"train\"], labels[\"train\"])"
      ],
      "metadata": {
        "id": "YDFSVmAnrtq9"
      },
      "execution_count": 122,
      "outputs": []
    },
    {
      "cell_type": "code",
      "source": [
        "dataloader = torch.utils.data.DataLoader(dataset, batch_size=64, shuffle=True)"
      ],
      "metadata": {
        "id": "YrgcHfCcwJss"
      },
      "execution_count": 123,
      "outputs": []
    },
    {
      "cell_type": "code",
      "source": [
        "X, y = next(iter(dataloader))\n",
        "X.shape, y.shape"
      ],
      "metadata": {
        "colab": {
          "base_uri": "https://localhost:8080/"
        },
        "id": "aYnggTVAwXIH",
        "outputId": "5dc56e29-1270-497e-dd92-0394bbeccaf6"
      },
      "execution_count": 128,
      "outputs": [
        {
          "output_type": "execute_result",
          "data": {
            "text/plain": [
              "(torch.Size([64, 1, 28, 28]), torch.Size([64]))"
            ]
          },
          "metadata": {},
          "execution_count": 128
        }
      ]
    },
    {
      "cell_type": "code",
      "source": [
        "pred = model(X)\n",
        "assert torch.argmax(F.softmax(pred, dim=1), dim=1).shape == y.shape"
      ],
      "metadata": {
        "id": "dU0p05UOwZ9F"
      },
      "execution_count": 142,
      "outputs": []
    },
    {
      "cell_type": "code",
      "source": [
        "loss_fn = nn.CrossEntropyLoss()"
      ],
      "metadata": {
        "id": "SVZ4pl85y6bi"
      },
      "execution_count": 143,
      "outputs": []
    },
    {
      "cell_type": "code",
      "source": [
        "loss_fn(pred, y)"
      ],
      "metadata": {
        "colab": {
          "base_uri": "https://localhost:8080/"
        },
        "id": "534NIYX1zFyq",
        "outputId": "ca206fea-5518-4245-b464-de86ea97f084"
      },
      "execution_count": 144,
      "outputs": [
        {
          "output_type": "execute_result",
          "data": {
            "text/plain": [
              "tensor(33.9488, grad_fn=<NllLossBackward0>)"
            ]
          },
          "metadata": {},
          "execution_count": 144
        }
      ]
    },
    {
      "cell_type": "code",
      "source": [
        "optimizer = torch.optim.SGD(model.parameters(), lr=1e-4)"
      ],
      "metadata": {
        "id": "bNUfAHBWwqC5"
      },
      "execution_count": 138,
      "outputs": []
    },
    {
      "cell_type": "code",
      "source": [
        "epochs = 1\n",
        "for _ in range(epochs):\n",
        "  for (X, y) in dataloader:\n",
        "    optimizer.zero_grad()\n",
        "\n",
        "    pred = model(X)\n",
        "    loss = loss_fn(pred, y)\n",
        "\n",
        "    loss.backward()\n",
        "    optimizer.step()"
      ],
      "metadata": {
        "id": "Xy69zpmhytNA"
      },
      "execution_count": 145,
      "outputs": []
    },
    {
      "cell_type": "markdown",
      "source": [
        "## Inference"
      ],
      "metadata": {
        "id": "LTi8psrJzin2"
      }
    },
    {
      "cell_type": "code",
      "source": [
        "plot_test_img(0)"
      ],
      "metadata": {
        "colab": {
          "base_uri": "https://localhost:8080/",
          "height": 282
        },
        "id": "4goxPuiW0fkQ",
        "outputId": "4074557d-5b30-432e-d7a6-6f694b844758"
      },
      "execution_count": 156,
      "outputs": [
        {
          "output_type": "stream",
          "name": "stdout",
          "text": [
            "tensor(7)\n"
          ]
        },
        {
          "output_type": "display_data",
          "data": {
            "image/png": "[encoded data removed]",
            "text/plain": [
              "<Figure size 432x288 with 1 Axes>"
            ]
          },
          "metadata": {
            "needs_background": "light"
          }
        }
      ]
    },
    {
      "cell_type": "code",
      "source": [
        "torch.argmax(F.softmax(model(images[\"test\"][:1]), dim=1), dim=1)"
      ],
      "metadata": {
        "colab": {
          "base_uri": "https://localhost:8080/"
        },
        "id": "MzHHP6ah0hmq",
        "outputId": "ff42d829-5f59-4029-c0e7-c8bc5ce88311"
      },
      "execution_count": 159,
      "outputs": [
        {
          "output_type": "execute_result",
          "data": {
            "text/plain": [
              "tensor([7])"
            ]
          },
          "metadata": {},
          "execution_count": 159
        }
      ]
    },
    {
      "cell_type": "code",
      "source": [
        "X, y = next(iter(dataloader))"
      ],
      "metadata": {
        "id": "BxT_93sgzcx7"
      },
      "execution_count": null,
      "outputs": []
    },
    {
      "cell_type": "code",
      "source": [
        "y"
      ],
      "metadata": {
        "colab": {
          "base_uri": "https://localhost:8080/"
        },
        "id": "zEHh2sjW0AMU",
        "outputId": "079d5e8c-dd13-418e-c9ec-bb29f6002a73"
      },
      "execution_count": 146,
      "outputs": [
        {
          "output_type": "execute_result",
          "data": {
            "text/plain": [
              "tensor([0, 5, 7, 9, 5, 6, 4, 8, 3, 9, 8, 9, 1, 2, 0, 6, 4, 9, 6, 2, 3, 4, 1, 2,\n",
              "        8, 4, 0, 1, 1, 3, 1, 5])"
            ]
          },
          "metadata": {},
          "execution_count": 146
        }
      ]
    },
    {
      "cell_type": "code",
      "source": [
        "torch.argmax(F.softmax(model(X), dim=1), dim=1)"
      ],
      "metadata": {
        "colab": {
          "base_uri": "https://localhost:8080/"
        },
        "id": "3BUgVSKy0Do8",
        "outputId": "ac849aec-c48a-48dc-a368-388f7b18ef69"
      },
      "execution_count": 148,
      "outputs": [
        {
          "output_type": "execute_result",
          "data": {
            "text/plain": [
              "tensor([0, 5, 7, 9, 5, 6, 4, 8, 3, 9, 8, 9, 1, 2, 0, 6, 4, 9, 6, 2, 3, 4, 1, 2,\n",
              "        8, 4, 0, 1, 1, 3, 1, 5])"
            ]
          },
          "metadata": {},
          "execution_count": 148
        }
      ]
    },
    {
      "cell_type": "markdown",
      "source": [
        "## Evaluation metrics"
      ],
      "metadata": {
        "id": "LqorGm2EzqJF"
      }
    },
    {
      "cell_type": "code",
      "source": [
        "pred_test = model(images[\"test\"])"
      ],
      "metadata": {
        "id": "Par9yNPXzrrq"
      },
      "execution_count": 160,
      "outputs": []
    },
    {
      "cell_type": "code",
      "source": [
        "pred_test = torch.argmax(F.softmax(pred_test, dim=1), dim=1)"
      ],
      "metadata": {
        "id": "2G2jVrLG6vuh"
      },
      "execution_count": 161,
      "outputs": []
    },
    {
      "cell_type": "code",
      "source": [
        "pred_test.shape, labels[\"test\"].shape"
      ],
      "metadata": {
        "colab": {
          "base_uri": "https://localhost:8080/"
        },
        "id": "vjgOB30M65Hx",
        "outputId": "8e2e0898-07ff-4214-f348-6728fb33f0a5"
      },
      "execution_count": 162,
      "outputs": [
        {
          "output_type": "execute_result",
          "data": {
            "text/plain": [
              "(torch.Size([10000]), torch.Size([10000]))"
            ]
          },
          "metadata": {},
          "execution_count": 162
        }
      ]
    },
    {
      "cell_type": "code",
      "source": [
        "from sklearn.metrics import classification_report\n",
        "\n",
        "print(classification_report(labels[\"test\"], pred_test))"
      ],
      "metadata": {
        "colab": {
          "base_uri": "https://localhost:8080/"
        },
        "id": "B0b29kLp67yy",
        "outputId": "b01b6151-fc28-44ea-fa07-1b18c3cae60b"
      },
      "execution_count": 164,
      "outputs": [
        {
          "output_type": "stream",
          "name": "stdout",
          "text": [
            "              precision    recall  f1-score   support\n",
            "\n",
            "           0       0.93      0.99      0.96       980\n",
            "           1       0.98      0.97      0.98      1135\n",
            "           2       0.93      0.93      0.93      1032\n",
            "           3       0.98      0.88      0.93      1010\n",
            "           4       0.99      0.80      0.89       982\n",
            "           5       0.98      0.90      0.94       892\n",
            "           6       0.96      0.95      0.96       958\n",
            "           7       0.98      0.71      0.82      1028\n",
            "           8       0.85      0.96      0.91       974\n",
            "           9       0.66      0.98      0.79      1009\n",
            "\n",
            "    accuracy                           0.91     10000\n",
            "   macro avg       0.92      0.91      0.91     10000\n",
            "weighted avg       0.92      0.91      0.91     10000\n",
            "\n"
          ]
        }
      ]
    }
  ]
}