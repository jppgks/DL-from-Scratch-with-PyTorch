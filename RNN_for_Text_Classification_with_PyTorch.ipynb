{
  "nbformat": 4,
  "nbformat_minor": 0,
  "metadata": {
    "colab": {
      "name": "RNN for Text Classification with PyTorch.ipynb",
      "provenance": [],
      "collapsed_sections": [],
      "authorship_tag": "ABX9TyOifuqAYhFJpw6zAh4y9AGo",
      "include_colab_link": true
    },
    "kernelspec": {
      "name": "python3",
      "display_name": "Python 3"
    },
    "language_info": {
      "name": "python"
    }
  },
  "cells": [
    {
      "cell_type": "markdown",
      "metadata": {
        "id": "view-in-github",
        "colab_type": "text"
      },
      "source": [
        "<a href=\"https://colab.research.google.com/github/jppgks/DL-from-Scratch-with-PyTorch/blob/main/RNN_for_Text_Classification_with_PyTorch.ipynb\" target=\"_parent\"><img src=\"https://colab.research.google.com/assets/colab-badge.svg\" alt=\"Open In Colab\"/></a>"
      ]
    },
    {
      "cell_type": "code",
      "execution_count": 617,
      "metadata": {
        "id": "zEkB8P29u8WZ"
      },
      "outputs": [],
      "source": [
        "import torch\n",
        "from torch import nn\n",
        "from torch.nn import functional as F"
      ]
    },
    {
      "cell_type": "markdown",
      "source": [
        "## Data"
      ],
      "metadata": {
        "id": "i0Xu_5Z2AFYJ"
      }
    },
    {
      "cell_type": "code",
      "source": [
        "epochs = 200\n",
        "texts = [\n",
        "  \"I am very interested in learning about the process of making coffee.\",\n",
        "  \"I admire the hard work that goes into producing coffee beans.\",\n",
        "  \"Conditions of workers on coffee plantations are really bad.\",\n",
        "  \"I do not like coffee at all.\",\n",
        "  \"Do not drink coffee.\"\n",
        "] * epochs\n",
        "sentiment = [\n",
        "  1,\n",
        "  1,\n",
        "  0,\n",
        "  0,\n",
        "  0,\n",
        "] * epochs"
      ],
      "metadata": {
        "id": "3azJes16AAK_"
      },
      "execution_count": 638,
      "outputs": []
    },
    {
      "cell_type": "markdown",
      "source": [
        "### Tokenize text"
      ],
      "metadata": {
        "id": "GQlyRrI5JwQr"
      }
    },
    {
      "cell_type": "code",
      "source": [
        "token2idx = dict()\n",
        "\n",
        "for idx, token in enumerate({token.lower() for text in texts for token in text.strip(\".\").split()}):\n",
        "  token2idx[token] = idx\n",
        "\n",
        "token2idx[\"EOS\"] = idx + 1"
      ],
      "metadata": {
        "id": "LxHCFcUxEFnz"
      },
      "execution_count": 619,
      "outputs": []
    },
    {
      "cell_type": "code",
      "source": [
        "idx2token = dict((idx, token) for (token, idx) in token2idx.items())"
      ],
      "metadata": {
        "id": "0npz1LRiJiH5"
      },
      "execution_count": 620,
      "outputs": []
    },
    {
      "cell_type": "code",
      "source": [
        "str(token2idx)"
      ],
      "metadata": {
        "colab": {
          "base_uri": "https://localhost:8080/",
          "height": 71
        },
        "id": "Wl5LMMNJESP5",
        "outputId": "963d0270-5889-4f12-a903-8b585b8a2997"
      },
      "execution_count": 621,
      "outputs": [
        {
          "output_type": "execute_result",
          "data": {
            "application/vnd.google.colaboratory.intrinsic+json": {
              "type": "string"
            },
            "text/plain": [
              "\"{'in': 0, 'producing': 1, 'really': 2, 'beans': 3, 'conditions': 4, 'work': 5, 'am': 6, 'on': 7, 'interested': 8, 'into': 9, 'not': 10, 'bad': 11, 'i': 12, 'the': 13, 'of': 14, 'all': 15, 'about': 16, 'plantations': 17, 'goes': 18, 'like': 19, 'learning': 20, 'hard': 21, 'are': 22, 'making': 23, 'process': 24, 'very': 25, 'coffee': 26, 'that': 27, 'at': 28, 'workers': 29, 'do': 30, 'drink': 31, 'admire': 32, 'EOS': 33}\""
            ]
          },
          "metadata": {},
          "execution_count": 621
        }
      ]
    },
    {
      "cell_type": "code",
      "source": [
        "token2idx['interested']"
      ],
      "metadata": {
        "colab": {
          "base_uri": "https://localhost:8080/"
        },
        "id": "mfTWVwU1ESqu",
        "outputId": "4543b2fe-a7d9-41a8-b35f-1bf004ba0196"
      },
      "execution_count": 622,
      "outputs": [
        {
          "output_type": "execute_result",
          "data": {
            "text/plain": [
              "8"
            ]
          },
          "metadata": {},
          "execution_count": 622
        }
      ]
    },
    {
      "cell_type": "code",
      "source": [
        "idx2token[22]"
      ],
      "metadata": {
        "colab": {
          "base_uri": "https://localhost:8080/",
          "height": 37
        },
        "id": "dP-MWOoZHRp6",
        "outputId": "0faec9af-c416-4323-abcf-07cdaedf0b06"
      },
      "execution_count": 623,
      "outputs": [
        {
          "output_type": "execute_result",
          "data": {
            "application/vnd.google.colaboratory.intrinsic+json": {
              "type": "string"
            },
            "text/plain": [
              "'are'"
            ]
          },
          "metadata": {},
          "execution_count": 623
        }
      ]
    },
    {
      "cell_type": "code",
      "source": [
        "indexes = [\n",
        "  torch.tensor(\n",
        "    [token2idx[word] for word in text.lower().strip(\".\").split()] + [token2idx[\"EOS\"]],\n",
        "    dtype=torch.long\n",
        "  ).view(-1, 1)\n",
        "  for text in texts\n",
        "]\n",
        "indexes[0].shape"
      ],
      "metadata": {
        "colab": {
          "base_uri": "https://localhost:8080/"
        },
        "id": "TChlsV6NJqFl",
        "outputId": "0c0e3d9b-e1f6-4a2d-e5dc-d020ca3334da"
      },
      "execution_count": 624,
      "outputs": [
        {
          "output_type": "execute_result",
          "data": {
            "text/plain": [
              "torch.Size([13, 1])"
            ]
          },
          "metadata": {},
          "execution_count": 624
        }
      ]
    },
    {
      "cell_type": "markdown",
      "source": [
        "## Model"
      ],
      "metadata": {
        "id": "hlXs3XJAcuMD"
      }
    },
    {
      "cell_type": "code",
      "source": [
        "class SentimentClassifier(nn.Module):\n",
        "  def __init__(self, vocab_size):\n",
        "    super(SentimentClassifier, self).__init__()\n",
        "\n",
        "    self.embed = nn.Embedding(vocab_size, 64)\n",
        "    self.rnn = nn.GRU(64, 64)\n",
        "    self.out = nn.Linear(64, 2)\n",
        "  \n",
        "  def forward(self, inputs, hidden):\n",
        "    x = self.embed(inputs).view(1, 1, -1)\n",
        "\n",
        "    ctx, hidden = self.rnn(x, hidden)\n",
        "    \n",
        "    out = self.out(ctx)\n",
        "\n",
        "    return out, hidden"
      ],
      "metadata": {
        "id": "qd1Bjrrgct45"
      },
      "execution_count": 625,
      "outputs": []
    },
    {
      "cell_type": "code",
      "source": [
        "model = SentimentClassifier(len(token2idx))"
      ],
      "metadata": {
        "id": "LB5SiIOWK_y_"
      },
      "execution_count": 626,
      "outputs": []
    },
    {
      "cell_type": "markdown",
      "source": [
        "## Optimization"
      ],
      "metadata": {
        "id": "N9fblA-nXzE9"
      }
    },
    {
      "cell_type": "code",
      "source": [
        "loss_fn = nn.CrossEntropyLoss()"
      ],
      "metadata": {
        "id": "u0e5gPHBVIhr"
      },
      "execution_count": 627,
      "outputs": []
    },
    {
      "cell_type": "code",
      "source": [
        "optimizer = torch.optim.SGD(model.parameters(), lr=1e-3)"
      ],
      "metadata": {
        "id": "46rMXpK3eQNG"
      },
      "execution_count": 628,
      "outputs": []
    },
    {
      "cell_type": "code",
      "source": [
        "from random import sample\n",
        "\n",
        "for txt_ids, sent in sample(list(zip(indexes, sentiment)), len(indexes)):\n",
        "  model.zero_grad()\n",
        "  optimizer.zero_grad()\n",
        "\n",
        "  hidden = torch.zeros(1, 1, 64)\n",
        "\n",
        "  for tok_i in range(txt_ids.shape[1]):\n",
        "    out, hidden = model(txt_ids[0][tok_i], hidden)\n",
        "  \n",
        "  loss = loss_fn(out.view(-1, 2), torch.tensor([sent]))\n",
        "\n",
        "  loss.backward()\n",
        "  optimizer.step()"
      ],
      "metadata": {
        "id": "nt6lpfTWXqEr"
      },
      "execution_count": 630,
      "outputs": []
    },
    {
      "cell_type": "markdown",
      "source": [
        "## Inference"
      ],
      "metadata": {
        "id": "eKN0PzCXmm0F"
      }
    },
    {
      "cell_type": "code",
      "source": [
        "for i in range(round(len(texts) / epochs)):\n",
        "  print(f\"Text: {texts[i]}\\n True label: {sentiment[i]}\")\n",
        "  txt_ids = indexes[i]\n",
        "  hidden = torch.zeros(1, 1, 64)\n",
        "\n",
        "  for tok_i in range(txt_ids.shape[1]):\n",
        "    out, hidden = model(txt_ids[0][tok_i], hidden)\n",
        "\n",
        "  correct = torch.argmax(F.softmax(out.squeeze(), dim=0)).item() == sentiment[i]\n",
        "  print(f\" Prediction correct: {correct}\")"
      ],
      "metadata": {
        "id": "kGiF65ONdghx",
        "colab": {
          "base_uri": "https://localhost:8080/"
        },
        "outputId": "ee461ed2-c9f5-4aaa-9c18-563820d23abc"
      },
      "execution_count": 645,
      "outputs": [
        {
          "output_type": "stream",
          "name": "stdout",
          "text": [
            "Text: I am very interested in learning about the process of making coffee.\n",
            " True label: 1\n",
            " Prediction correct: True\n",
            "Text: I admire the hard work that goes into producing coffee beans.\n",
            " True label: 1\n",
            " Prediction correct: True\n",
            "Text: Conditions of workers on coffee plantations are really bad.\n",
            " True label: 0\n",
            " Prediction correct: True\n",
            "Text: I do not like coffee at all.\n",
            " True label: 0\n",
            " Prediction correct: False\n",
            "Text: Do not drink coffee.\n",
            " True label: 0\n",
            " Prediction correct: True\n"
          ]
        }
      ]
    }
  ]
}