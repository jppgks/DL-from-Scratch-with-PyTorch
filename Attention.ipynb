{
  "cells": [
    {
      "cell_type": "markdown",
      "metadata": {
        "id": "view-in-github",
        "colab_type": "text"
      },
      "source": [
        "<a href=\"https://colab.research.google.com/github/jppgks/DL-from-Scratch-with-PyTorch/blob/main/Attention.ipynb\" target=\"_parent\"><img src=\"https://colab.research.google.com/assets/colab-badge.svg\" alt=\"Open In Colab\"/></a>"
      ]
    },
    {
      "cell_type": "code",
      "execution_count": 1,
      "metadata": {
        "id": "zEkB8P29u8WZ"
      },
      "outputs": [],
      "source": [
        "import torch\n",
        "from torch import nn\n",
        "from torch.nn import functional as F"
      ]
    },
    {
      "cell_type": "markdown",
      "metadata": {
        "id": "i0Xu_5Z2AFYJ"
      },
      "source": [
        "## Data"
      ]
    },
    {
      "cell_type": "code",
      "execution_count": 2,
      "metadata": {
        "id": "3azJes16AAK_"
      },
      "outputs": [],
      "source": [
        "texts = [\n",
        "  \"Conditions of workers on coffee plantations are good.\",\n",
        "  \"I like coffee a lot.\",\n",
        "  \"The coffee tastes good.\",\n",
        "  \"Drink coffee.\",\n",
        "  \"I like that everyone drinks coffee.\",\n",
        "  \"I am interested in learning about the process of making coffee.\",\n",
        "  \"He is interested in owning a coffee place.\",\n",
        "  \"He likes to drink coffee.\",\n",
        "  \"I admire the hard work that goes into producing coffee beans.\",\n",
        "\n",
        "  \"Conditions of workers on coffee plantations are bad.\",\n",
        "  \"I do not like coffee at all.\",\n",
        "  \"The coffee tastes bad\",\n",
        "  \"Do not drink coffee.\",\n",
        "  \"I hate that everyone drinks coffee.\",\n",
        "  \"I am not interested in learning about the process of making coffee.\",\n",
        "  \"He is not interested in owning a coffee place.\",\n",
        "  \"He does not like to drink coffee.\",\n",
        "  \"I do not care about the hard work that goes into producing coffee beans.\",\n",
        "]\n",
        "sentiment = [\n",
        "  1,\n",
        "  1,\n",
        "  1,\n",
        "  1,\n",
        "  1,\n",
        "  1,\n",
        "  1,\n",
        "  1,\n",
        "  1,\n",
        "  0,\n",
        "  0,\n",
        "  0,\n",
        "  0,\n",
        "  0,\n",
        "  0,\n",
        "  0,\n",
        "  0,\n",
        "  0,\n",
        "]"
      ]
    },
    {
      "cell_type": "markdown",
      "metadata": {
        "id": "GQlyRrI5JwQr"
      },
      "source": [
        "### Tokenize text"
      ]
    },
    {
      "cell_type": "code",
      "execution_count": 3,
      "metadata": {
        "id": "LxHCFcUxEFnz"
      },
      "outputs": [],
      "source": [
        "token2idx = dict()\n",
        "\n",
        "token2idx[\"[PAD]\"] = 0\n",
        "token2idx[\"[EOS]\"] = 1\n",
        "\n",
        "for idx, token in enumerate({token.lower() for text in texts for token in text.strip(\".\").split()}):\n",
        "  token2idx[token] = len(token2idx)"
      ]
    },
    {
      "cell_type": "code",
      "execution_count": 4,
      "metadata": {
        "id": "0npz1LRiJiH5"
      },
      "outputs": [],
      "source": [
        "idx2token = dict((idx, token) for (token, idx) in token2idx.items())"
      ]
    },
    {
      "cell_type": "code",
      "execution_count": 5,
      "metadata": {
        "colab": {
          "base_uri": "https://localhost:8080/",
          "height": 105
        },
        "id": "Wl5LMMNJESP5",
        "outputId": "f6b9127b-f55e-4b9d-9509-8aba4c5f069b"
      },
      "outputs": [
        {
          "output_type": "execute_result",
          "data": {
            "application/vnd.google.colaboratory.intrinsic+json": {
              "type": "string"
            },
            "text/plain": [
              "\"{'[PAD]': 0, '[EOS]': 1, 'likes': 2, 'in': 3, 'making': 4, 'about': 5, 'conditions': 6, 'of': 7, 'not': 8, 'drinks': 9, 'beans': 10, 'drink': 11, 'good': 12, 'does': 13, 'am': 14, 'i': 15, 'goes': 16, 'care': 17, 'owning': 18, 'workers': 19, 'work': 20, 'at': 21, 'producing': 22, 'hard': 23, 'tastes': 24, 'admire': 25, 'are': 26, 'a': 27, 'that': 28, 'into': 29, 'do': 30, 'hate': 31, 'like': 32, 'he': 33, 'everyone': 34, 'coffee': 35, 'process': 36, 'on': 37, 'is': 38, 'place': 39, 'all': 40, 'plantations': 41, 'bad': 42, 'interested': 43, 'lot': 44, 'to': 45, 'learning': 46, 'the': 47}\""
            ]
          },
          "metadata": {},
          "execution_count": 5
        }
      ],
      "source": [
        "str(token2idx)"
      ]
    },
    {
      "cell_type": "code",
      "execution_count": 6,
      "metadata": {
        "colab": {
          "base_uri": "https://localhost:8080/"
        },
        "id": "mfTWVwU1ESqu",
        "outputId": "d1a77e56-7d18-4235-9197-ebc186ed2711"
      },
      "outputs": [
        {
          "output_type": "execute_result",
          "data": {
            "text/plain": [
              "43"
            ]
          },
          "metadata": {},
          "execution_count": 6
        }
      ],
      "source": [
        "idx = token2idx['interested']\n",
        "idx"
      ]
    },
    {
      "cell_type": "code",
      "execution_count": 7,
      "metadata": {
        "colab": {
          "base_uri": "https://localhost:8080/",
          "height": 37
        },
        "id": "dP-MWOoZHRp6",
        "outputId": "c08b5e18-7b1a-407e-f5f1-6c8699f94423"
      },
      "outputs": [
        {
          "output_type": "execute_result",
          "data": {
            "application/vnd.google.colaboratory.intrinsic+json": {
              "type": "string"
            },
            "text/plain": [
              "'interested'"
            ]
          },
          "metadata": {},
          "execution_count": 7
        }
      ],
      "source": [
        "idx2token[idx]"
      ]
    },
    {
      "cell_type": "code",
      "execution_count": 8,
      "metadata": {
        "colab": {
          "base_uri": "https://localhost:8080/"
        },
        "id": "TChlsV6NJqFl",
        "outputId": "9b4841f0-4937-4edb-b67a-ae33aa05f96d"
      },
      "outputs": [
        {
          "output_type": "execute_result",
          "data": {
            "text/plain": [
              "torch.Size([9, 1])"
            ]
          },
          "metadata": {},
          "execution_count": 8
        }
      ],
      "source": [
        "indexes = [\n",
        "  torch.tensor(\n",
        "    [token2idx[word] for word in text.lower().strip(\".\").split()] + [token2idx[\"[EOS]\"]],\n",
        "    dtype=torch.long\n",
        "  ).view(-1, 1)\n",
        "  for text in texts\n",
        "]\n",
        "indexes[0].shape"
      ]
    },
    {
      "cell_type": "code",
      "source": [
        "from torch.nn.utils.rnn import pad_sequence\n",
        "\n",
        "id_tensors_pad = pad_sequence(indexes, batch_first=True)\n",
        "id_tensors_pad.shape"
      ],
      "metadata": {
        "colab": {
          "base_uri": "https://localhost:8080/"
        },
        "id": "IO5_6-yyyC7c",
        "outputId": "ab225a40-4308-4bd1-8434-adbcf76367d7"
      },
      "execution_count": 9,
      "outputs": [
        {
          "output_type": "execute_result",
          "data": {
            "text/plain": [
              "torch.Size([18, 15, 1])"
            ]
          },
          "metadata": {},
          "execution_count": 9
        }
      ]
    },
    {
      "cell_type": "code",
      "source": [
        "labels_onehot = F.one_hot(torch.tensor(sentiment), 2).float()\n",
        "labels_onehot.shape"
      ],
      "metadata": {
        "colab": {
          "base_uri": "https://localhost:8080/"
        },
        "id": "WjgjAgdx0tC9",
        "outputId": "b49456a9-2f9e-414e-887d-3737f205a394"
      },
      "execution_count": 10,
      "outputs": [
        {
          "output_type": "execute_result",
          "data": {
            "text/plain": [
              "torch.Size([18, 2])"
            ]
          },
          "metadata": {},
          "execution_count": 10
        }
      ]
    },
    {
      "cell_type": "code",
      "source": [
        "dataset = torch.utils.data.TensorDataset(id_tensors_pad, labels_onehot)"
      ],
      "metadata": {
        "id": "ExId48IxwBnK"
      },
      "execution_count": 11,
      "outputs": []
    },
    {
      "cell_type": "code",
      "source": [
        "dataloader = torch.utils.data.DataLoader(dataset, batch_size=6, shuffle=True)"
      ],
      "metadata": {
        "id": "PNzwcxkQwSFu"
      },
      "execution_count": 12,
      "outputs": []
    },
    {
      "cell_type": "code",
      "source": [
        "X, y = next(iter(dataloader))\n",
        "X.shape, y.shape"
      ],
      "metadata": {
        "colab": {
          "base_uri": "https://localhost:8080/"
        },
        "id": "va4d7wdD3OWt",
        "outputId": "f6126baa-129a-4dc0-b76d-462fa76e3288"
      },
      "execution_count": 13,
      "outputs": [
        {
          "output_type": "execute_result",
          "data": {
            "text/plain": [
              "(torch.Size([6, 15, 1]), torch.Size([6, 2]))"
            ]
          },
          "metadata": {},
          "execution_count": 13
        }
      ]
    },
    {
      "cell_type": "code",
      "source": [
        "print(f\"Batch \\n {sum(y[:, 0])} neg. samples \\n {sum(y[:, 1])} pos. samples\")"
      ],
      "metadata": {
        "colab": {
          "base_uri": "https://localhost:8080/"
        },
        "id": "86JeZjPO3pPS",
        "outputId": "680676d2-980b-41e5-cd95-4a73d845b0de"
      },
      "execution_count": 14,
      "outputs": [
        {
          "output_type": "stream",
          "name": "stdout",
          "text": [
            "Batch \n",
            " 3.0 neg. samples \n",
            " 3.0 pos. samples\n"
          ]
        }
      ]
    },
    {
      "cell_type": "markdown",
      "metadata": {
        "id": "hlXs3XJAcuMD"
      },
      "source": [
        "## Model"
      ]
    },
    {
      "cell_type": "code",
      "execution_count": 15,
      "metadata": {
        "id": "U3CCO7_a488t"
      },
      "outputs": [],
      "source": [
        "hidden_size = 128"
      ]
    },
    {
      "cell_type": "code",
      "execution_count": 16,
      "metadata": {
        "id": "qd1Bjrrgct45"
      },
      "outputs": [],
      "source": [
        "class TextClassifier(nn.Module):\n",
        "  def __init__(self, vocab_size, hidden_size, seq_len, pad_idx, eos_idx):\n",
        "    super(TextClassifier, self).__init__()\n",
        "\n",
        "    self.pad_idx = pad_idx\n",
        "    self.eos_idx = eos_idx\n",
        "\n",
        "    self.embed = nn.Embedding(vocab_size, hidden_size, padding_idx=pad_idx)\n",
        "    self.rnn = nn.GRU(hidden_size, hidden_size)\n",
        "\n",
        "    self.attention = nn.Linear(hidden_size, seq_len)\n",
        "    self.linear = nn.Linear(hidden_size, hidden_size)\n",
        "    self.dropout = nn.Dropout(.1)\n",
        "    self.out = nn.Linear(hidden_size, 2)\n",
        "  \n",
        "  def forward(self, inputs):\n",
        "    x = self.embed(inputs).view(inputs.shape[0], inputs.shape[1], -1)\n",
        "    \n",
        "    encoder_outputs, _ = self.rnn(x)\n",
        "\n",
        "    attention_scores = self.attention(encoder_outputs).squeeze(2)\n",
        "\n",
        "    mask = (inputs == torch.tensor(self.pad_idx)) | (inputs == torch.tensor(self.eos_idx))\n",
        "    mask = torch.transpose(mask, 1, 2).repeat(1, inputs.shape[1], 1)\n",
        "    attention_scores = attention_scores.masked_fill(mask, -1e30)\n",
        "\n",
        "    attention_weights = F.softmax(attention_scores, dim=2)\n",
        "\n",
        "    context = torch.bmm(attention_weights, encoder_outputs)\n",
        "\n",
        "    x = self.linear(context)\n",
        "    x = self.dropout(x)\n",
        "\n",
        "    out = self.out(x)\n",
        "\n",
        "    return out, attention_weights"
      ]
    },
    {
      "cell_type": "code",
      "execution_count": 17,
      "metadata": {
        "id": "LB5SiIOWK_y_"
      },
      "outputs": [],
      "source": [
        "model = TextClassifier(\n",
        "    vocab_size=len(token2idx), \n",
        "    hidden_size=hidden_size, \n",
        "    seq_len=id_tensors_pad.shape[1],\n",
        "    pad_idx=token2idx[\"[PAD]\"],\n",
        "    eos_idx=token2idx[\"[EOS]\"]\n",
        ")"
      ]
    },
    {
      "cell_type": "code",
      "source": [
        "out, attn_w = model(X)\n",
        "out.shape, attn_w.shape"
      ],
      "metadata": {
        "colab": {
          "base_uri": "https://localhost:8080/"
        },
        "id": "JJZRTklu7SYZ",
        "outputId": "86a3870a-06f4-4e3a-8f5a-980d3892c60d"
      },
      "execution_count": 18,
      "outputs": [
        {
          "output_type": "execute_result",
          "data": {
            "text/plain": [
              "(torch.Size([6, 15, 2]), torch.Size([6, 15, 15]))"
            ]
          },
          "metadata": {},
          "execution_count": 18
        }
      ]
    },
    {
      "cell_type": "markdown",
      "metadata": {
        "id": "N9fblA-nXzE9"
      },
      "source": [
        "## Optimization"
      ]
    },
    {
      "cell_type": "code",
      "execution_count": 19,
      "metadata": {
        "id": "u0e5gPHBVIhr"
      },
      "outputs": [],
      "source": [
        "loss_fn = nn.BCEWithLogitsLoss()"
      ]
    },
    {
      "cell_type": "code",
      "execution_count": 20,
      "metadata": {
        "id": "46rMXpK3eQNG"
      },
      "outputs": [],
      "source": [
        "opt = torch.optim.Adam(model.parameters(), lr=1e-4)"
      ]
    },
    {
      "cell_type": "code",
      "execution_count": 21,
      "metadata": {
        "id": "exZQCjAe-cXy"
      },
      "outputs": [],
      "source": [
        "if torch.cuda.is_available():\n",
        "  device = \"cuda\"\n",
        "else:\n",
        "  device = \"cpu\""
      ]
    },
    {
      "cell_type": "code",
      "execution_count": 22,
      "metadata": {
        "colab": {
          "base_uri": "https://localhost:8080/"
        },
        "id": "xAEXx8rf-qPD",
        "outputId": "ed32e162-a5cf-4340-eddf-361ef6100ea9"
      },
      "outputs": [
        {
          "output_type": "execute_result",
          "data": {
            "text/plain": [
              "TextClassifier(\n",
              "  (embed): Embedding(48, 128, padding_idx=0)\n",
              "  (rnn): GRU(128, 128)\n",
              "  (attention): Linear(in_features=128, out_features=15, bias=True)\n",
              "  (linear): Linear(in_features=128, out_features=128, bias=True)\n",
              "  (dropout): Dropout(p=0.1, inplace=False)\n",
              "  (out): Linear(in_features=128, out_features=2, bias=True)\n",
              ")"
            ]
          },
          "metadata": {},
          "execution_count": 22
        }
      ],
      "source": [
        "model.to(device)"
      ]
    },
    {
      "cell_type": "code",
      "execution_count": 23,
      "metadata": {
        "id": "nt6lpfTWXqEr"
      },
      "outputs": [],
      "source": [
        "epochs = 200\n",
        "model.train()\n",
        "for _ in range(epochs):\n",
        "  for (X, y) in dataloader:\n",
        "    opt.zero_grad()\n",
        "\n",
        "    out, attn_weights = model(X.to(device))\n",
        "    \n",
        "    loss = loss_fn(out[:, -1, :], y.to(device))\n",
        "\n",
        "    loss.backward()\n",
        "    opt.step()"
      ]
    },
    {
      "cell_type": "markdown",
      "metadata": {
        "id": "eKN0PzCXmm0F"
      },
      "source": [
        "## Inference"
      ]
    },
    {
      "cell_type": "code",
      "execution_count": 24,
      "metadata": {
        "id": "Hd0msNF2o7XF"
      },
      "outputs": [],
      "source": [
        "import seaborn as sns; sns.set_theme()\n",
        "import matplotlib.pyplot as plt\n",
        "\n",
        "def plot_attention(attn_weights, txt_ids, cbar=False):\n",
        "  ax = sns.heatmap(\n",
        "      [attn_weights],\n",
        "      annot=True,\n",
        "      cmap=sns.color_palette(\"rocket_r\", as_cmap=True),\n",
        "      xticklabels=list(map(lambda id: idx2token[id], txt_ids)),\n",
        "      yticklabels=False,\n",
        "      vmin=0,\n",
        "      vmax=1,\n",
        "      square=True,\n",
        "      cbar_kws={\"orientation\": \"horizontal\"},\n",
        "      cbar=cbar,\n",
        "  )\n",
        "  plt.show()"
      ]
    },
    {
      "cell_type": "code",
      "execution_count": 26,
      "metadata": {
        "colab": {
          "base_uri": "https://localhost:8080/",
          "height": 1000
        },
        "id": "kGiF65ONdghx",
        "outputId": "468b6c38-72ee-4f91-9a84-f2f980effc55"
      },
      "outputs": [
        {
          "output_type": "stream",
          "name": "stdout",
          "text": [
            "Text: Conditions of workers on coffee plantations are good.\n",
            " True label: 1\n"
          ]
        },
        {
          "output_type": "display_data",
          "data": {
            "image/png": "[encoded data removed]",
            "text/plain": [
              "<Figure size 432x288 with 1 Axes>"
            ]
          },
          "metadata": {
            "needs_background": "light"
          }
        },
        {
          "output_type": "stream",
          "name": "stdout",
          "text": [
            " Prediction correct: True\n",
            " tensor([0.0353, 0.9647])\n",
            "\n",
            "\n",
            "Text: I like coffee a lot.\n",
            " True label: 1\n"
          ]
        },
        {
          "output_type": "display_data",
          "data": {
            "image/png": "[encoded data removed]",
            "text/plain": [
              "<Figure size 432x288 with 1 Axes>"
            ]
          },
          "metadata": {
            "needs_background": "light"
          }
        },
        {
          "output_type": "stream",
          "name": "stdout",
          "text": [
            " Prediction correct: True\n",
            " tensor([7.3664e-07, 1.0000e+00])\n",
            "\n",
            "\n",
            "Text: The coffee tastes good.\n",
            " True label: 1\n"
          ]
        },
        {
          "output_type": "display_data",
          "data": {
            "image/png": "[encoded data removed]",
            "text/plain": [
              "<Figure size 432x288 with 1 Axes>"
            ]
          },
          "metadata": {
            "needs_background": "light"
          }
        },
        {
          "output_type": "stream",
          "name": "stdout",
          "text": [
            " Prediction correct: True\n",
            " tensor([0.0549, 0.9451])\n",
            "\n",
            "\n",
            "Text: Drink coffee.\n",
            " True label: 1\n"
          ]
        },
        {
          "output_type": "display_data",
          "data": {
            "image/png": "[encoded data removed]",
            "text/plain": [
              "<Figure size 432x288 with 1 Axes>"
            ]
          },
          "metadata": {
            "needs_background": "light"
          }
        },
        {
          "output_type": "stream",
          "name": "stdout",
          "text": [
            " Prediction correct: True\n",
            " tensor([2.2942e-04, 9.9977e-01])\n",
            "\n",
            "\n",
            "Text: I like that everyone drinks coffee.\n",
            " True label: 1\n"
          ]
        },
        {
          "output_type": "display_data",
          "data": {
            "image/png": "[encoded data removed]",
            "text/plain": [
              "<Figure size 432x288 with 1 Axes>"
            ]
          },
          "metadata": {
            "needs_background": "light"
          }
        },
        {
          "output_type": "stream",
          "name": "stdout",
          "text": [
            " Prediction correct: True\n",
            " tensor([0.0014, 0.9986])\n",
            "\n",
            "\n",
            "Text: I am interested in learning about the process of making coffee.\n",
            " True label: 1\n"
          ]
        },
        {
          "output_type": "display_data",
          "data": {
            "image/png": "[encoded data removed]",
            "text/plain": [
              "<Figure size 432x288 with 1 Axes>"
            ]
          },
          "metadata": {
            "needs_background": "light"
          }
        },
        {
          "output_type": "stream",
          "name": "stdout",
          "text": [
            " Prediction correct: True\n",
            " tensor([2.2757e-04, 9.9977e-01])\n",
            "\n",
            "\n",
            "Text: He is interested in owning a coffee place.\n",
            " True label: 1\n"
          ]
        },
        {
          "output_type": "display_data",
          "data": {
            "image/png": "[encoded data removed]",
            "text/plain": [
              "<Figure size 432x288 with 1 Axes>"
            ]
          },
          "metadata": {
            "needs_background": "light"
          }
        },
        {
          "output_type": "stream",
          "name": "stdout",
          "text": [
            " Prediction correct: True\n",
            " tensor([8.1830e-05, 9.9992e-01])\n",
            "\n",
            "\n",
            "Text: He likes to drink coffee.\n",
            " True label: 1\n"
          ]
        },
        {
          "output_type": "display_data",
          "data": {
            "image/png": "[encoded data removed]",
            "text/plain": [
              "<Figure size 432x288 with 1 Axes>"
            ]
          },
          "metadata": {
            "needs_background": "light"
          }
        },
        {
          "output_type": "stream",
          "name": "stdout",
          "text": [
            " Prediction correct: True\n",
            " tensor([0.0012, 0.9988])\n",
            "\n",
            "\n",
            "Text: I admire the hard work that goes into producing coffee beans.\n",
            " True label: 1\n"
          ]
        },
        {
          "output_type": "display_data",
          "data": {
            "image/png": "[encoded data removed]",
            "text/plain": [
              "<Figure size 432x288 with 1 Axes>"
            ]
          },
          "metadata": {
            "needs_background": "light"
          }
        },
        {
          "output_type": "stream",
          "name": "stdout",
          "text": [
            " Prediction correct: True\n",
            " tensor([0.0185, 0.9815])\n",
            "\n",
            "\n",
            "Text: Conditions of workers on coffee plantations are bad.\n",
            " True label: 0\n"
          ]
        },
        {
          "output_type": "display_data",
          "data": {
            "image/png": "[encoded data removed]",
            "text/plain": [
              "<Figure size 432x288 with 1 Axes>"
            ]
          },
          "metadata": {
            "needs_background": "light"
          }
        },
        {
          "output_type": "stream",
          "name": "stdout",
          "text": [
            " Prediction correct: True\n",
            " tensor([0.8112, 0.1888])\n",
            "\n",
            "\n",
            "Text: I do not like coffee at all.\n",
            " True label: 0\n"
          ]
        },
        {
          "output_type": "display_data",
          "data": {
            "image/png": "[encoded data removed]",
            "text/plain": [
              "<Figure size 432x288 with 1 Axes>"
            ]
          },
          "metadata": {
            "needs_background": "light"
          }
        },
        {
          "output_type": "stream",
          "name": "stdout",
          "text": [
            " Prediction correct: True\n",
            " tensor([1.0000e+00, 1.5513e-13])\n",
            "\n",
            "\n",
            "Text: The coffee tastes bad\n",
            " True label: 0\n"
          ]
        },
        {
          "output_type": "display_data",
          "data": {
            "image/png": "[encoded data removed]",
            "text/plain": [
              "<Figure size 432x288 with 1 Axes>"
            ]
          },
          "metadata": {
            "needs_background": "light"
          }
        },
        {
          "output_type": "stream",
          "name": "stdout",
          "text": [
            " Prediction correct: True\n",
            " tensor([0.9585, 0.0415])\n",
            "\n",
            "\n",
            "Text: Do not drink coffee.\n",
            " True label: 0\n"
          ]
        },
        {
          "output_type": "display_data",
          "data": {
            "image/png": "[encoded data removed]",
            "text/plain": [
              "<Figure size 432x288 with 1 Axes>"
            ]
          },
          "metadata": {
            "needs_background": "light"
          }
        },
        {
          "output_type": "stream",
          "name": "stdout",
          "text": [
            " Prediction correct: True\n",
            " tensor([9.9998e-01, 1.9701e-05])\n",
            "\n",
            "\n",
            "Text: I hate that everyone drinks coffee.\n",
            " True label: 0\n"
          ]
        },
        {
          "output_type": "display_data",
          "data": {
            "image/png": "[encoded data removed]",
            "text/plain": [
              "<Figure size 432x288 with 1 Axes>"
            ]
          },
          "metadata": {
            "needs_background": "light"
          }
        },
        {
          "output_type": "stream",
          "name": "stdout",
          "text": [
            " Prediction correct: True\n",
            " tensor([9.9989e-01, 1.0583e-04])\n",
            "\n",
            "\n",
            "Text: I am not interested in learning about the process of making coffee.\n",
            " True label: 0\n"
          ]
        },
        {
          "output_type": "display_data",
          "data": {
            "image/png": "[encoded data removed]",
            "text/plain": [
              "<Figure size 432x288 with 1 Axes>"
            ]
          },
          "metadata": {
            "needs_background": "light"
          }
        },
        {
          "output_type": "stream",
          "name": "stdout",
          "text": [
            " Prediction correct: True\n",
            " tensor([1.0000e+00, 9.3195e-09])\n",
            "\n",
            "\n",
            "Text: He is not interested in owning a coffee place.\n",
            " True label: 0\n"
          ]
        },
        {
          "output_type": "display_data",
          "data": {
            "image/png": "[encoded data removed]",
            "text/plain": [
              "<Figure size 432x288 with 1 Axes>"
            ]
          },
          "metadata": {
            "needs_background": "light"
          }
        },
        {
          "output_type": "stream",
          "name": "stdout",
          "text": [
            " Prediction correct: True\n",
            " tensor([1.0000e+00, 7.5259e-09])\n",
            "\n",
            "\n",
            "Text: He does not like to drink coffee.\n",
            " True label: 0\n"
          ]
        },
        {
          "output_type": "display_data",
          "data": {
            "image/png": "[encoded data removed]",
            "text/plain": [
              "<Figure size 432x288 with 1 Axes>"
            ]
          },
          "metadata": {
            "needs_background": "light"
          }
        },
        {
          "output_type": "stream",
          "name": "stdout",
          "text": [
            " Prediction correct: True\n",
            " tensor([1.0000e+00, 2.2605e-12])\n",
            "\n",
            "\n",
            "Text: I do not care about the hard work that goes into producing coffee beans.\n",
            " True label: 0\n"
          ]
        },
        {
          "output_type": "display_data",
          "data": {
            "image/png": "[encoded data removed]",
            "text/plain": [
              "<Figure size 432x288 with 1 Axes>"
            ]
          },
          "metadata": {
            "needs_background": "light"
          }
        },
        {
          "output_type": "stream",
          "name": "stdout",
          "text": [
            " Prediction correct: True\n",
            " tensor([1.0000e+00, 3.6444e-11])\n",
            "\n",
            "\n"
          ]
        }
      ],
      "source": [
        "%matplotlib inline\n",
        "for i in range(round(len(texts))):\n",
        "  print(f\"Text: {texts[i]}\\n True label: {sentiment[i]}\")\n",
        "  \n",
        "  txt_ids = id_tensors_pad[i]\n",
        "  eos_idx = (txt_ids == torch.tensor(token2idx[\"[EOS]\"])).nonzero()[0, 0].item()\n",
        "\n",
        "  model.eval()\n",
        "  out, attn_weights = model(txt_ids.unsqueeze(0).to(device))\n",
        "  out = out[0, eos_idx]\n",
        "  attn_weights = attn_weights[0, eos_idx]\n",
        "\n",
        "  plot_attention(attn_weights[:len(txt_ids)].detach().to(\"cpu\").numpy(), txt_ids.view(-1).numpy(), cbar=False)\n",
        "\n",
        "  correct = torch.argmax(F.softmax(out.squeeze(), dim=0)).item() == sentiment[i]\n",
        "  print(f\" Prediction correct: {correct}\")\n",
        "  print(f\" {F.softmax(out.squeeze().detach(), dim=0)}\\n\\n\")"
      ]
    }
  ],
  "metadata": {
    "colab": {
      "collapsed_sections": [],
      "name": "Attention - GitHub.ipynb",
      "provenance": [],
      "authorship_tag": "ABX9TyPd0nFaI4eUF/3EHilRPr8F",
      "include_colab_link": true
    },
    "kernelspec": {
      "display_name": "Python 3",
      "name": "python3"
    },
    "language_info": {
      "name": "python"
    }
  },
  "nbformat": 4,
  "nbformat_minor": 0
}